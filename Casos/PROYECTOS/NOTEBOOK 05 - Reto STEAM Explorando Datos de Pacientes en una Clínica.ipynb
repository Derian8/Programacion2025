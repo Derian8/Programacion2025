{
 "cells": [
  {
   "cell_type": "markdown",
   "metadata": {
    "azdata_cell_guid": "e738b43d-fda9-409b-9e4e-f356323e1dbc"
   },
   "source": [
    "# Reto Bootcamp STEAM: Explorando Datos de Pacientes en una Clínica\n",
    "## Fundamentos de Python | UMCA\n",
    "## Profesor: Ing. Andrés Mena Abarca\n",
    "### <mark>**Nombre del estudiante:**</mark>Derian\n",
    "* * *"
   ]
  },
  {
   "attachments": {},
   "cell_type": "markdown",
   "metadata": {
    "azdata_cell_guid": "5a9661f6-9c22-438b-8530-debb92fea2ff"
   },
   "source": [
    "¡Bienvenidos al reto STEAM! Hoy serás parte de un equipo de científicos de datos que está desarrollando una aplicación para analizar los datos de los pacientes de una clínica. Este proyecto se integra dentro del enfoque STEAM, donde no solo usaremos habilidades de programación y análisis, sino también creatividad, visualización y reflexión crítica para mejorar la experiencia de salud.\n",
    "\n",
    "En este reto, utilizaremos **Python** para analizar datos clínicos reales y responder preguntas importantes sobre la salud de los pacientes. También diseñarás soluciones creativas y colaborarás con tus compañeros para mejorar la aplicación.\n",
    "\n",
    "### Contexto:\n",
    "\n",
    "El director de la clínica te ha encargado que construyas un sistema que pueda analizar la información de los pacientes, entender las enfermedades tratadas, los medicamentos recetados y comparar pacientes.\n",
    "\n",
    "### Objetivos del Reto:\n",
    "1. Aplicar estructuras básicas de Python como listas y ciclos.\n",
    "2. Leer datos desde un archivo JSON y almacenarlos en listas.\n",
    "3. Realizar análisis de datos sobre enfermedades y medicamentos.\n",
    "4. Visualizar y comunicar los resultados de manera creativa.\n",
    "\n",
    "### Fase Creativa STEAM:\n",
    "- **Ciencia y Tecnología:** Analizarás los datos clínicos.\n",
    "- **Ingeniería:** Implementarás las soluciones utilizando estructuras de Python.\n",
    "- **Arte y Matemáticas:** Visualizarás los resultados de manera atractiva y clara.\n",
    "\n",
    "¡Comencemos!\n",
    "\n",
    "## Cargar y Leer los Datos de Pacientes"
   ]
  },
  {
   "cell_type": "code",
   "execution_count": 53,
   "metadata": {
    "azdata_cell_guid": "65553934-e4e4-4b44-aa2e-b234d1a33667",
    "language": "python"
   },
   "outputs": [
    {
     "name": "stdout",
     "output_type": "stream",
     "text": [
      "Lectura de datos completada!\n",
      "['123', 89076541, 'Heredia', 'Barva', 'gripe', 'acetaminofen']\n",
      "['321', 31321321, 'Cartago', 'Pacayas', 'gastritis', 'antiacido']\n",
      "['456', 87539856, 'San Jose', 'Pavas', 'tos', 'jarabe']\n"
     ]
    }
   ],
   "source": [
    "import json\n",
    "with open (\"clinica.json\", encoding=\"utf-8\") as archivo:\n",
    "    datos = json.load (archivo)\n",
    "    print(\"Lectura de datos completada!\")\n",
    "\n",
    "for paciente in datos[:3]:\n",
    "    print(paciente)"
   ]
  },
  {
   "cell_type": "code",
   "execution_count": null,
   "metadata": {},
   "outputs": [],
   "source": []
  },
  {
   "attachments": {},
   "cell_type": "markdown",
   "metadata": {
    "azdata_cell_guid": "4b7c571d-d8f2-4d72-9f79-9718986200eb"
   },
   "source": [
    "### **Paso a Paso para el Estudiante**\n",
    "\n",
    "#### **Paso 1: Crear las Listas**\n",
    "\n",
    "### \n",
    "\n",
    "1. **Objetivo:** Necesitamos dos listas para almacenar:\n",
    "    \n",
    "    - Los nombres de las enfermedades.\n",
    "    - La cantidad de veces que cada enfermedad aparece.\n",
    "2. **Instrucción:**\n",
    "    \n",
    "    - Crea una lista vacía llamada `lista_enfermedades`.\n",
    "    - Crea otra lista vacía llamada `lista_cantidades`."
   ]
  },
  {
   "cell_type": "code",
   "execution_count": 54,
   "metadata": {
    "azdata_cell_guid": "61977840-044f-4cb3-858a-1812c43f3e2b",
    "language": "python"
   },
   "outputs": [],
   "source": [
    "# Lista para almacenar las enfermedades y sus cantidades\n",
    "#                     numero_cedula/telefono/Provincia/Canton/Enfermedad/Remedio\n",
    "lista_enfermedades = []\n",
    "\n",
    "lista_cantidades = []"
   ]
  },
  {
   "attachments": {},
   "cell_type": "markdown",
   "metadata": {
    "azdata_cell_guid": "549b6c62-76c6-4412-ae94-4d7a0ebd790d"
   },
   "source": [
    "#### **Paso 2: Recorrer los Datos de los Pacientes**\n",
    "\n",
    "### \n",
    "\n",
    "1. **Objetivo:** Vamos a analizar cada paciente para extraer su enfermedad.\n",
    "    \n",
    "2. **Instrucción:**\n",
    "    \n",
    "    - Usa un bucle `for` para recorrer cada `paciente` en `datos_pacientes` (ya está definida en el código como una lista de listas).\n",
    "    - Dentro del bucle, asigna la enfermedad del paciente (índice `4` de cada lista) a una variable llamada `enfermedad`."
   ]
  },
  {
   "cell_type": "code",
   "execution_count": null,
   "metadata": {},
   "outputs": [],
   "source": []
  },
  {
   "attachments": {},
   "cell_type": "markdown",
   "metadata": {
    "azdata_cell_guid": "d587b0f6-79f4-4a71-bcaf-837bd0c31bee",
    "language": "python"
   },
   "source": [
    "#### **Paso 3: Verificar si la Enfermedad ya Está en la Lista**\n",
    "\n",
    "1. **Objetivo:** Verificar si la enfermedad ya fue registrada.\n",
    "    \n",
    "2. **Instrucción:**\n",
    "    \n",
    "    - Usa un `if` para verificar si la `enfermedad` ya está en `lista_enfermedades`.\n",
    "    - Si **no** está en `lista_enfermedades`, agrega la enfermedad a `lista_enfermedades` y añade `1` a `lista_cantidades` para contarla por primera vez.\n",
    "    - Si **sí** está en `lista_enfermedades`, encuentra la posición (`indice`) de la enfermedad en `lista_enfermedades` y aumenta en `1` el valor en `lista_cantidades` en la misma posición."
   ]
  },
  {
   "cell_type": "code",
   "execution_count": 55,
   "metadata": {
    "azdata_cell_guid": "f5cffccc-7f3a-45f8-b203-53faac8d2ab0",
    "language": "python"
   },
   "outputs": [
    {
     "name": "stdout",
     "output_type": "stream",
     "text": [
      "\n",
      "REPORTE DE ENFERMEDADES\n",
      "El diagnostico gripe, concurrrencia de 2\n",
      "El diagnostico gastritis, concurrrencia de 1\n",
      "El diagnostico tos, concurrrencia de 1\n",
      "El diagnostico migraña, concurrrencia de 2\n",
      "El diagnostico dolor, concurrrencia de 3\n",
      "El diagnostico presion, concurrrencia de 1\n"
     ]
    }
   ],
   "source": [
    "# Pista: Usa `in` para verificar si la enfermedad ya está en lista_enfermedades.\n",
    "# Pista: Si la enfermedad no está, agrégala a lista_enfermedades y empieza el conteo en lista_cantidades.\n",
    "# Pista: Si la enfermedad ya está, usa `index` para encontrar su posición en lista_enfermedades y suma 1 en lista_cantidades en esa posición.\n",
    "for paciente in datos:\n",
    " #print (paciente[4])\n",
    "    if paciente[4] in lista_enfermedades:\n",
    "        #No se agrega la enfermedad\n",
    "        indice = lista_enfermedades.index(paciente[4])\n",
    "        lista_cantidades [indice] += 1\n",
    "    else: \n",
    "        #Agrega la enfermedad\n",
    "        lista_enfermedades.append(paciente[4])\n",
    "        lista_cantidades.append(1)\n",
    "    #Imprimir\n",
    "print (\"\\nREPORTE DE ENFERMEDADES\")\n",
    "for i in range (len(lista_enfermedades)):\n",
    "    print (f\"El diagnostico {lista_enfermedades[i]}, concurrrencia de {lista_cantidades[i]}\")"
   ]
  },
  {
   "attachments": {},
   "cell_type": "markdown",
   "metadata": {
    "azdata_cell_guid": "2ceed8f4-0a9a-48ac-ba0d-d48dc319ab9f",
    "language": "python"
   },
   "source": [
    "#### **Paso 4: Imprimir el Reporte Final**\n",
    "\n",
    "1. **Objetivo:** Mostrar el número de pacientes con cada enfermedad.\n",
    "    \n",
    "2. **Instrucción:**\n",
    "    \n",
    "    - Usa un bucle `for` para recorrer la lista `lista_enfermedades`.\n",
    "    - En cada iteración, imprime la enfermedad y el número de pacientes (que está en `lista_cantidades` en la misma posición)."
   ]
  },
  {
   "cell_type": "code",
   "execution_count": 56,
   "metadata": {
    "azdata_cell_guid": "5368c6bd-5224-4c6f-a5ad-ef6767750039",
    "language": "python"
   },
   "outputs": [
    {
     "name": "stdout",
     "output_type": "stream",
     "text": [
      "Reporte de enfermedades tratadas:\n",
      "\n",
      "REPORTE DE ENFERMEDADES\n",
      "El diagnostico gripe, concurrrencia de 2\n",
      "El diagnostico gastritis, concurrrencia de 1\n",
      "El diagnostico tos, concurrrencia de 1\n",
      "El diagnostico migraña, concurrrencia de 2\n",
      "El diagnostico dolor, concurrrencia de 3\n",
      "El diagnostico presion, concurrrencia de 1\n"
     ]
    }
   ],
   "source": [
    "print(\"Reporte de enfermedades tratadas:\")\n",
    "print (\"\\nREPORTE DE ENFERMEDADES\")\n",
    "for i in range (len(lista_enfermedades)):\n",
    "    print (f\"El diagnostico {lista_enfermedades[i]}, concurrrencia de {lista_cantidades[i]}\")"
   ]
  },
  {
   "attachments": {},
   "cell_type": "markdown",
   "metadata": {
    "azdata_cell_guid": "02262547-dabe-40b9-9ef0-5863dcad648b",
    "language": "python"
   },
   "source": [
    "### **Resumen Completo del Código**\n",
    "\n",
    "En ésta celda resume el código completo que debería tener al final para la solución del ejercicio:"
   ]
  },
  {
   "cell_type": "code",
   "execution_count": 57,
   "metadata": {
    "azdata_cell_guid": "fb7ea25e-c906-4f7e-9265-dd63d3193b54",
    "language": "python"
   },
   "outputs": [
    {
     "name": "stdout",
     "output_type": "stream",
     "text": [
      "Lectura de datos completada!\n",
      "['123', 89076541, 'Heredia', 'Barva', 'gripe', 'acetaminofen']\n",
      "['321', 31321321, 'Cartago', 'Pacayas', 'gastritis', 'antiacido']\n",
      "['456', 87539856, 'San Jose', 'Pavas', 'tos', 'jarabe']\n",
      "\n",
      "REPORTE DE ENFERMEDADES\n",
      "El diagnostico gripe, concurrrencia de 2\n",
      "El diagnostico gastritis, concurrrencia de 1\n",
      "El diagnostico tos, concurrrencia de 1\n",
      "El diagnostico migraña, concurrrencia de 2\n",
      "El diagnostico dolor, concurrrencia de 3\n",
      "El diagnostico presion, concurrrencia de 1\n"
     ]
    }
   ],
   "source": [
    "#Esta parte puedes colocar todos los bloques de las celdas anteriores \n",
    "import json\n",
    "with open (\"clinica.json\", encoding=\"utf-8\") as archivo:\n",
    "    datos = json.load (archivo)\n",
    "    print(\"Lectura de datos completada!\")\n",
    "\n",
    "for paciente in datos[:3]:\n",
    "    print(paciente)\n",
    "lista_enfermedades = []\n",
    "lista_cantidades = []\n",
    "\n",
    "for paciente in datos:\n",
    " #print (paciente[4])\n",
    "    if paciente[4] in lista_enfermedades:\n",
    "        #No se agrega la enfermedad\n",
    "        indice = lista_enfermedades.index(paciente[4])\n",
    "        lista_cantidades [indice] += 1\n",
    "    else: \n",
    "        #Agrega la enfermedad\n",
    "        lista_enfermedades.append(paciente[4])\n",
    "        lista_cantidades.append(1)\n",
    "    #Imprimir\n",
    "print (\"\\nREPORTE DE ENFERMEDADES\")\n",
    "for i in range (len(lista_enfermedades)):\n",
    "    print (f\"El diagnostico {lista_enfermedades[i]}, concurrrencia de {lista_cantidades[i]}\")"
   ]
  },
  {
   "attachments": {},
   "cell_type": "markdown",
   "metadata": {
    "azdata_cell_guid": "babcfd28-f173-4adb-b593-c5cf58370bc0",
    "language": "python"
   },
   "source": [
    "## Desafío 2: Exploración Tecnológica - Reporte de Medicamentos Recetados\n",
    "\n",
    "Ahora que ya tienes el reporte de las enfermedades tratadas, es momento de explorar qué medicamentos se están recetando en la clínica. Tu tarea es generar un reporte similar al anterior, pero esta vez debes contar cuántos pacientes han recibido cada medicamento.\n",
    "\n",
    "### Instrucciones:\n",
    "\n",
    "1. Almacena los medicamentos recetados en una lista.\n",
    "2. Recorre los datos y cuenta cuántos pacientes han recibido cada medicamento.\n",
    "3. Visualiza los resultados de manera creativa.\n",
    "\n",
    "### Preguntas:\n",
    "\n",
    "- ¿Qué medicamentos son los más recetados?\n",
    "- ¿Cómo podrías optimizar el uso de medicamentos en la clínica?\n",
    "\n",
    "Resultados esperados: \n",
    "\n",
    "```\n",
    "Reporte de medicamentos recetados:\n",
    "acetaminofen: 9 pacientes\n",
    "antiácido: 2 pacientes\n",
    "jarabe: 2 pacientes\n",
    "insulina: 3 pacientes\n",
    "salbutamol: 4 pacientes\n",
    "levotiroxina: 2 pacientes\n",
    "............................................\n",
    "\n",
    "```"
   ]
  },
  {
   "cell_type": "code",
   "execution_count": 58,
   "metadata": {
    "azdata_cell_guid": "85051147-a5a3-40e9-a423-179ac721be03",
    "language": "python"
   },
   "outputs": [
    {
     "name": "stdout",
     "output_type": "stream",
     "text": [
      "Lectura de datos completada!\n",
      "\n",
      "REPORTE DE MEDICAMENTOS\n",
      "cantidad de medicamento de acetaminofen, es de 9\n",
      "cantidad de medicamento de antiácido, es de 2\n",
      "cantidad de medicamento de jarabe, es de 2\n",
      "cantidad de medicamento de insulina, es de 3\n",
      "cantidad de medicamento de salbutamol, es de 4\n",
      "cantidad de medicamento de levotiroxina, es de 2\n",
      "cantidad de medicamento de loratadina, es de 2\n",
      "cantidad de medicamento de amlodipino, es de 2\n",
      "cantidad de medicamento de ibuprofeno, es de 2\n",
      "cantidad de medicamento de clonazepam, es de 1\n",
      "cantidad de medicamento de cetirizina, es de 1\n",
      "cantidad de medicamento de omeprazol, es de 2\n",
      "cantidad de medicamento de losartán, es de 1\n",
      "cantidad de medicamento de paracetamol, es de 1\n",
      "cantidad de medicamento de diazepam, es de 1\n",
      "cantidad de medicamento de metformina, es de 1\n",
      "cantidad de medicamento de fluticasona, es de 1\n",
      "cantidad de medicamento de pantoprazol, es de 1\n",
      "cantidad de medicamento de enalapril, es de 1\n"
     ]
    }
   ],
   "source": [
    "# Listas para almacenar los medicamentos y sus frecuencias\n",
    "\n",
    "import json\n",
    "with open (\"clinica_intermedio.json\", encoding=\"utf-8\") as archivo:\n",
    "    datos = json.load (archivo)\n",
    "    print(\"Lectura de datos completada!\")\n",
    "\n",
    "\n",
    "medicamentos = []\n",
    "frecuencias = []\n",
    "\n",
    "for paciente in datos:\n",
    " #print (paciente[4])\n",
    "    if paciente[5] in medicamentos:\n",
    "        #No se agrega la enfermedad\n",
    "        indice = medicamentos.index(paciente[5])\n",
    "        frecuencias [indice] += 1\n",
    "    else: \n",
    "        #Agrega la enfermedad\n",
    "        medicamentos.append(paciente[5])\n",
    "        frecuencias.append(1)\n",
    "    #Imprimir\n",
    "print (\"\\nREPORTE DE MEDICAMENTOS\")\n",
    "for i in range (len(medicamentos)):\n",
    "    print (f\"cantidad de medicamento de {medicamentos[i]}, es de {frecuencias[i]}\")\n"
   ]
  },
  {
   "attachments": {},
   "cell_type": "markdown",
   "metadata": {
    "azdata_cell_guid": "e75d82f8-c903-459c-b6b4-3cdc9d23ac5c"
   },
   "source": [
    "## Desafío 3: Ingeniería - Comparar Pacientes por Identificación\n",
    "\n",
    "Este desafío te permitirá comparar dos pacientes de la clínica en base a sus identificaciones. Tu objetivo es averiguar:\n",
    "\n",
    "1. **¿Qué enfermedades tienen en común?**\n",
    "2. **¿Qué medicamentos toman en común?**\n",
    "\n",
    "### Instrucciones:\n",
    "\n",
    "1. Solicita dos identificaciones de pacientes al usuario.\n",
    "2. Extrae las enfermedades y medicamentos de esos dos pacientes.\n",
    "3. Compara las enfermedades y medicamentos y muestra los resultados.\n",
    "\n",
    "### Preguntas:\n",
    "\n",
    "- ¿Qué enfermedades y medicamentos son comunes en los pacientes comparados?\n",
    "- ¿Qué información adicional podrías incluir para mejorar esta comparación?\n"
   ]
  },
  {
   "cell_type": "code",
   "execution_count": null,
   "metadata": {
    "azdata_cell_guid": "26417c6c-aa5d-41a9-b7c7-fa268a476a6d",
    "language": "python",
    "tags": []
   },
   "outputs": [
    {
     "name": "stdout",
     "output_type": "stream",
     "text": [
      "datos en los pacientes cargados con exito\n",
      "las enfermedades comunes son: ['alergias']\n",
      "las medicamentos comunes son: ['acetaminofen', 'antiácido', 'jarabe', 'insulina', 'salbutamol', 'levotiroxina', 'loratadina', 'amlodipino', 'ibuprofeno', 'clonazepam', 'cetirizina', 'omeprazol', 'losartán', 'paracetamol', 'diazepam', 'metformina', 'fluticasona', 'pantoprazol', 'enalapril']\n"
     ]
    },
    {
     "data": {
      "text/plain": [
       "\"\\nPrueba con 702370234 - 215487963\\nSalida esperada\\nEnfermedades en común entre 702370234 y 215487963: ['migraña']\\nMedicamentos en común entre 702370234 y 215487963: ['acetaminofen']\\n\""
      ]
     },
     "execution_count": 61,
     "metadata": {},
     "output_type": "execute_result"
    }
   ],
   "source": [
    "# Pedimos las identificaciones de los dos pacientes\n",
    "import json\n",
    "\n",
    "with open (\"clinica_intermedio.json\", encoding=\"utf-8\") as archivo:\n",
    "   datos = json.load (archivo)\n",
    "print(\"datos en los pacientes cargados con exito\")\n",
    "\n",
    "enfermedades1 = []\n",
    "medicamentos1 = []\n",
    "enfermedades2 = []\n",
    "medicamentos2 = []\n",
    "\n",
    "paciente1 = input(\"ingrese la cedula del primer paciente\")\n",
    "paciente2 = input(\"ingrese la cedula del segundo paciente\")\n",
    "\n",
    "for p in datos:\n",
    "   if p[0]== paciente1 and paciente2: \n",
    "      enfermedades1.append(p[4])\n",
    "      medicamentos1.append(p[5])\n",
    "   elif p[0] == paciente2:\n",
    "      enfermedades2.append(p[4])\n",
    "      medicamentos2.append(p[5])\n",
    "    \n",
    "enfermedades_comunes = []\n",
    "for enfermedad in enfermedades1:\n",
    "   if enfermedad in enfermedades2:\n",
    "      enfermedades_comunes.append(enfermedad)\n",
    "if enfermedades_comunes: \n",
    "   print (\"las enfermedades comunes son:\",enfermedades_comunes)\n",
    "else:\n",
    "   print(\"no tiene enfermedades comunes\")      \n",
    "      \n",
    "medicamentos_comunes = []\n",
    "for medicamento in medicamentos1:\n",
    "   if medicamento in medicamentos2:\n",
    "      medicamentos_comunes.append(medicamento)\n",
    "if medicamentos_comunes: \n",
    "   print (\"las medicamentos comunes son:\",medicamentos_comunes)\n",
    "else:\n",
    "   print(\"no tiene medicamentos comunes\")      \n",
    "      \n",
    "\n",
    "\n",
    "\n",
    "\n",
    "\n",
    "\n",
    "\"\"\"\n",
    "Prueba con 702370234 - 215487963\n",
    "Salida esperada\n",
    "Enfermedades en común entre 702370234 y 215487963: ['migraña']\n",
    "Medicamentos en común entre 702370234 y 215487963: ['acetaminofen']\n",
    "\"\"\""
   ]
  },
  {
   "attachments": {},
   "cell_type": "markdown",
   "metadata": {
    "azdata_cell_guid": "ac71941a-8e0d-4ea1-98ff-b293ecd8defb",
    "language": "python"
   },
   "source": [
    "## Desafío Final: Arte y Matemáticas - Visualización Creativa y Reflexión\n",
    "\n",
    "Has llegado al último desafío, ¡felicidades! Ahora es momento de presentar tus resultados de una forma creativa. Tu tarea será utilizar **gráficos**, **tablas** o incluso **arte digital** para mostrar tus descubrimientos sobre los datos de los pacientes de la clínica.\n",
    "\n",
    "\n",
    "### Preguntas:\n",
    "\n",
    "- ¿Qué patrones encontraste en los datos?\n",
    "- ¿Cómo podrías usar estos análisis para mejorar la atención de los pacientes?"
   ]
  },
  {
   "cell_type": "code",
   "execution_count": 1,
   "metadata": {},
   "outputs": [
    {
     "ename": "NameError",
     "evalue": "name 'datos' is not defined",
     "output_type": "error",
     "traceback": [
      "\u001b[31m---------------------------------------------------------------------------\u001b[39m",
      "\u001b[31mNameError\u001b[39m                                 Traceback (most recent call last)",
      "\u001b[36mCell\u001b[39m\u001b[36m \u001b[39m\u001b[32mIn[1]\u001b[39m\u001b[32m, line 14\u001b[39m\n\u001b[32m     11\u001b[39m provincia_buscar = \u001b[38;5;28minput\u001b[39m(\u001b[33m\"\u001b[39m\u001b[33mIngrese la provincia: \u001b[39m\u001b[33m\"\u001b[39m)\u001b[38;5;66;03m#Variable donde se espera que el usuario escriba algo\u001b[39;00m\n\u001b[32m     13\u001b[39m \u001b[38;5;66;03m# Mostrar resultados\u001b[39;00m\n\u001b[32m---> \u001b[39m\u001b[32m14\u001b[39m personas_en_provincia = \u001b[43mfiltrar_por_provincia\u001b[49m\u001b[43m(\u001b[49m\u001b[43mprovincia_buscar\u001b[49m\u001b[43m)\u001b[49m\n\u001b[32m     16\u001b[39m \u001b[38;5;28;01mif\u001b[39;00m personas_en_provincia:\n\u001b[32m     17\u001b[39m     \u001b[38;5;28mprint\u001b[39m(\u001b[33mf\u001b[39m\u001b[33m\"\u001b[39m\u001b[33mPersonas en \u001b[39m\u001b[38;5;132;01m{\u001b[39;00mprovincia_buscar\u001b[38;5;132;01m}\u001b[39;00m\u001b[33m:\u001b[39m\u001b[33m\"\u001b[39m)\n",
      "\u001b[36mCell\u001b[39m\u001b[36m \u001b[39m\u001b[32mIn[1]\u001b[39m\u001b[32m, line 5\u001b[39m, in \u001b[36mfiltrar_por_provincia\u001b[39m\u001b[34m(provincia)\u001b[39m\n\u001b[32m      3\u001b[39m \u001b[38;5;28;01mdef\u001b[39;00m\u001b[38;5;250m \u001b[39m\u001b[34mfiltrar_por_provincia\u001b[39m(provincia):\n\u001b[32m      4\u001b[39m     resultado = []\n\u001b[32m----> \u001b[39m\u001b[32m5\u001b[39m     \u001b[38;5;28;01mfor\u001b[39;00m persona \u001b[38;5;129;01min\u001b[39;00m \u001b[43mdatos\u001b[49m:\u001b[38;5;66;03m#Recorre cada fila\u001b[39;00m\n\u001b[32m      6\u001b[39m         \u001b[38;5;28;01mif\u001b[39;00m persona[\u001b[32m2\u001b[39m].lower() == provincia.lower():\u001b[38;5;66;03m#compara sin distinguir mayusculas/minusculas\"\u001b[39;00m\n\u001b[32m      7\u001b[39m             resultado.append(persona)\u001b[38;5;66;03m#añade la fila a los resultados\u001b[39;00m\n",
      "\u001b[31mNameError\u001b[39m: name 'datos' is not defined"
     ]
    }
   ],
   "source": [
    "# Función para filtrar por provincia\n",
    "\n",
    "def filtrar_por_provincia(provincia):\n",
    "    resultado = []\n",
    "    for persona in datos:#Recorre cada fila\n",
    "        if persona[2].lower() == provincia.lower():#compara sin distinguir mayusculas/minusculas\"\n",
    "            resultado.append(persona)#añade la fila a los resultados\n",
    "    return resultado#Devuelve la lista con todas las personas encontradas\n",
    "    \n",
    "# Solicitar provincia al usuario\n",
    "provincia_buscar = input(\"Ingrese la provincia: \")#Variable donde se espera que el usuario escriba algo\n",
    "\n",
    "# Mostrar resultados\n",
    "personas_en_provincia = filtrar_por_provincia(provincia_buscar)\n",
    "\n",
    "if personas_en_provincia:\n",
    "    print(f\"Personas en {provincia_buscar}:\")\n",
    "    for p in personas_en_provincia:\n",
    "        print(p)#Imprime un encabezado y luego cada fila\n",
    "else:\n",
    "    print(f\"No se encontraron personas en {provincia_buscar}.\")"
   ]
  },
  {
   "cell_type": "code",
   "execution_count": 64,
   "metadata": {},
   "outputs": [
    {
     "name": "stdout",
     "output_type": "stream",
     "text": [
      "Personas en heredia:\n",
      "['603240305', 60534319, 'Heredia', 'Santo Domingo', 'gastritis', 'antiácido']\n",
      "['503810832', 83076969, 'Heredia', 'Barva', 'gripe', 'acetaminofen']\n",
      "['602948176', 61928374, 'Heredia', 'Belén', 'ansiedad', 'clonazepam']\n",
      "['103927564', 63749562, 'Heredia', 'San Isidro', 'gastritis', 'omeprazol']\n",
      "['104598273', 68597312, 'Heredia', 'San Rafael', 'gripe', 'acetaminofen']\n",
      "['732145609', 68495731, 'Heredia', 'Flores', 'dolor', 'acetaminofen']\n"
     ]
    }
   ],
   "source": [
    "# Solicitar provincia, Pedir provincia al usuario\n",
    "provincia_buscar = input(\"Ingrese la provincia: \")\n",
    "\n",
    "#  Crear lista vacía para coincidencias\n",
    "personas_en_provincia = []\n",
    "\n",
    "# Recorrer todos los registros y filtrar, Recorrer todos los registros y filtrar\n",
    "# persona[2] es la provincia en esa fila\n",
    "# .lower() sirve para no diferenciar mayúsculas de minúsculas\n",
    "for persona in datos:\n",
    "    if persona[2].lower() == provincia_buscar.lower():\n",
    "        personas_en_provincia.append(persona)\n",
    "\n",
    "# Mostrar resultados\n",
    "# Si la lista no está vacía mostramos todas las filas,\n",
    "# Si está vacía mostramos mensaje de \"no encontrado\"\n",
    "if personas_en_provincia:\n",
    "    print(f\"Personas en {provincia_buscar}:\")\n",
    "    for p in personas_en_provincia:\n",
    "        print(p)# Cada p es una lista con los datos de una persona\n",
    "else:\n",
    "    print(f\"No se encontraron personas en {provincia_buscar}.\")"
   ]
  }
 ],
 "metadata": {
  "kernelspec": {
   "display_name": "Python 3",
   "language": "python",
   "name": "python3"
  },
  "language_info": {
   "codemirror_mode": {
    "name": "ipython",
    "version": 3
   },
   "file_extension": ".py",
   "mimetype": "text/x-python",
   "name": "python",
   "nbconvert_exporter": "python",
   "pygments_lexer": "ipython3",
   "version": "3.13.3"
  }
 },
 "nbformat": 4,
 "nbformat_minor": 2
}
