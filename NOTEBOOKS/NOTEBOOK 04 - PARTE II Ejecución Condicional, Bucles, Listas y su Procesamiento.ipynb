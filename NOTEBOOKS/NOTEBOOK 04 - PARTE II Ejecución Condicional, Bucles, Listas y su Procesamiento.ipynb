{
    "cells": [
        {
            "attachments": {},
            "cell_type": "markdown",
            "metadata": {
                "azdata_cell_guid": "5a9661f6-9c22-438b-8530-debb92fea2ff"
            },
            "source": [
                "# NOTEBOOK 04 - PARTE II Ejecución Condicional, Bucles, Listas y su Procesamiento\n",
                "\n",
                "## Fundamentos de Python | UMCA\n",
                "\n",
                "## Profesor: Ing. Andrés Mena Abarca\n",
                "\n",
                "### <mark>**Nombre del estudiante:**</mark>Derian\n",
                "\n",
                "\n",
                "* * *\n",
                "\n",
                "\n",
                "## **¿Qué son las Listas en Python?**\n",
                "\n",
                "Imagina que tienes una caja mágica que puede contener todo tipo de objetos: desde libros, juguetes, hasta otros contenedores con más objetos dentro. No solo eso, esta caja tiene la capacidad de cambiar su contenido en cualquier momento; puedes agregar nuevos objetos, eliminar los que ya no necesitas o reorganizar su interior. En Python, esta caja mágica es lo que llamamos una **lista**.\n",
                "\n",
                "## **Definición Formal:**\n",
                "\n",
                "Una **lista** en Python es una estructura de datos **ordenada** y **mutable** que puede contener una colección de elementos, los cuales pueden ser de diferentes tipos (enteros, cadenas, booleanos, otras listas, etc.). Las listas son muy versátiles y son una de las estructuras más utilizadas en Python debido a su flexibilidad y facilidad de uso.\n",
                "\n",
                "### **Características Clave de las Listas**\n",
                "\n",
                "1. **Ordenadas:** Mantienen el orden de los elementos tal y como fueron agregados.\n",
                "2. **Mutables:** Puedes modificar su contenido sin crear una nueva lista.\n",
                "3. **Indexadas:** Cada elemento tiene una posición (índice) que permite acceder a él.\n",
                "4. **Heterogéneas:** Pueden contener elementos de diferentes tipos.\n",
                "\n",
                "### **Analogía Creativa: La Lista como un Tren**\n",
                "\n",
                "Imagina una lista como un tren compuesto por varios vagones. Cada vagón (elemento) tiene un número (índice) y puede contener cualquier cosa: pasajeros, carga, incluso otros vagones (listas anidadas). Puedes:\n",
                "\n",
                "- **Acceder** a un vagón específico usando su número.\n",
                "- **Agregar** o **eliminar** vagones en cualquier posición.\n",
                "- **Reordenar** los vagones según tus necesidades.\n",
                "\n",
                "### **1\\. Creación de Listas**\n",
                "\n",
                "### \n",
                "\n",
                "**Sintaxis básica:**\n",
                "\n",
                "```\n",
                "mi_lista = [elemento1, elemento2, elemento3]\n",
                "```\n",
                "\n",
                "Puedes crear listas de varias formas:\n",
                "\n",
                "1. **Lista Vacía:**"
            ]
        },
        {
            "cell_type": "code",
            "execution_count": 4,
            "metadata": {
                "azdata_cell_guid": "65553934-e4e4-4b44-aa2e-b234d1a33667",
                "language": "python"
            },
            "outputs": [
                {
                    "name": "stdout",
                    "output_type": "stream",
                    "text": [
                        "16\n"
                    ]
                }
            ],
            "source": [
                "\n",
                "#           0  1  2\n",
                "mi_lista = [15,16,17]\n",
                "print(mi_lista[1])"
            ]
        },
        {
            "attachments": {},
            "cell_type": "markdown",
            "metadata": {
                "azdata_cell_guid": "27d04572-8b5b-46fa-b3ee-4ed3f2939a34",
                "language": "python"
            },
            "source": [
                "2. **Lista con Elementos:**"
            ]
        },
        {
            "cell_type": "code",
            "execution_count": 12,
            "metadata": {
                "azdata_cell_guid": "0ed8a61e-b610-437d-9a78-c75ab079f2b7",
                "language": "python"
            },
            "outputs": [
                {
                    "name": "stdout",
                    "output_type": "stream",
                    "text": [
                        "[13, 14, 15, 16, 17, 18, 19]\n",
                        "['manzana', 'banano', 'uvas', 'aguacate']\n",
                        "['Derian', 16, '61465043', False, 53]\n",
                        "El estudiante Deriantiene 16 años de edad, el estudiante esta comprometido False, Tel:61465043\n",
                        "['Futbol, Tennis, golf']\n",
                        "mi deporte favorito es el Futbol\n"
                    ]
                }
            ],
            "source": [
                "#Crea tres tipo de listas diferentes\n",
                "Edades= [13,14,15,16,17,18,19]\n",
                "frutas = [\"manzana\" , \"banano\" , \"uvas\" ,\"aguacate\"]\n",
                "est= [\"Derian\" ,16, \"61465043\" , False, 53]\n",
                "\n",
                "print (Edades)\n",
                "print (frutas)\n",
                "print (est)\n",
                "\n",
                "print(f\"El estudiante {est[0]}tiene {est[1]} años de edad, el estudiante esta comprometido {est[3]}, Tel:{est[2]}\")\n",
                "\n",
                "deporte = [\"Futbol\", \"Tennis\", \"golf\"]\n",
                "print(mi_lista)\n",
                "print (f\"mi deporte favorito es el {deporte[0]}\")"
            ]
        },
        {
            "attachments": {},
            "cell_type": "markdown",
            "metadata": {
                "azdata_cell_guid": "babcfd28-f173-4adb-b593-c5cf58370bc0",
                "language": "python"
            },
            "source": [
                "3. **Usando la Función list():**"
            ]
        },
        {
            "cell_type": "code",
            "execution_count": 15,
            "metadata": {
                "azdata_cell_guid": "85051147-a5a3-40e9-a423-179ac721be03",
                "language": "python"
            },
            "outputs": [
                {
                    "name": "stdout",
                    "output_type": "stream",
                    "text": [
                        "[1, 2, 3, 4, 5]\n",
                        "['1', '_', '2', '0', '4', '8', '-', '0', '7', '7', '4']\n"
                    ]
                },
                {
                    "data": {
                        "text/plain": [
                            "'_'"
                        ]
                    },
                    "execution_count": 15,
                    "metadata": {},
                    "output_type": "execute_result"
                }
            ],
            "source": [
                "#Convertir en lista la cadena 'abcdefghijk'\n",
                "mi_list=(1,2,3,4,5)\n",
                "mi_lista = list (mi_list)\n",
                "print (mi_lista)\n",
                "\n",
                "frase = \"1_2048-0774\"\n",
                "lista = list(frase)\n",
                "print (lista)\n",
                "\n",
                "lista.pop(6)\n",
                "lista.pop(1)\n"
            ]
        },
        {
            "attachments": {},
            "cell_type": "markdown",
            "metadata": {
                "azdata_cell_guid": "e75d82f8-c903-459c-b6b4-3cdc9d23ac5c"
            },
            "source": [
                "### **2\\. Acceso a Elementos**\n",
                "\n",
                "Puedes acceder a los elementos de una lista usando índices.\n",
                "\n",
                "**Ejemplo:**"
            ]
        },
        {
            "cell_type": "code",
            "execution_count": null,
            "metadata": {
                "azdata_cell_guid": "26417c6c-aa5d-41a9-b7c7-fa268a476a6d",
                "language": "python",
                "tags": []
            },
            "outputs": [],
            "source": [
                "#Trabajemos con la lista frutas\n",
                "\n"
            ]
        },
        {
            "attachments": {},
            "cell_type": "markdown",
            "metadata": {
                "azdata_cell_guid": "ac71941a-8e0d-4ea1-98ff-b293ecd8defb",
                "language": "python"
            },
            "source": [
                "### **3\\. Modificación de Elementos**\n",
                "\n",
                "Al ser mutables, puedes cambiar los valores de los elementos existentes.\n",
                "\n",
                "**Ejemplo:**"
            ]
        },
        {
            "cell_type": "code",
            "execution_count": 19,
            "metadata": {
                "azdata_cell_guid": "d820e888-4c7f-488e-8d16-506bfb2d7083",
                "language": "python"
            },
            "outputs": [
                {
                    "name": "stdout",
                    "output_type": "stream",
                    "text": [
                        "['120333220', 'Juan Pedro', 'Abarca', '1,70', 'Español']\n"
                    ]
                }
            ],
            "source": [
                "#Indice         0              1             2         3          4\n",
                "profesor = [\"110202045\" , \"Juan Pedro\" , \"Guerrero\" , 1.50, \"Matematicas\"]\n",
                "\n",
                "profesor [4] = \"Español\"\n",
                "profesor [2] = input (\"ingrese el apellido correcto\")\n",
                "profesor [3] = \"1,70\"\n",
                "profesor [0] = \"120333220\"\n",
                "\n",
                "\n",
                "print (profesor)"
            ]
        },
        {
            "attachments": {},
            "cell_type": "markdown",
            "metadata": {
                "azdata_cell_guid": "7d08ceac-43f5-4144-9a55-2524859d645c"
            },
            "source": [
                "### **4\\. Slicing (Segmentación)**\n",
                "\n",
                "Puedes obtener sublistas usando la notación de slicing.\n",
                "\n",
                "**Sintaxis:**\n",
                "\n",
                "```\n",
                "sub_lista = lista[inicio:fin:paso]\n",
                "```\n"
            ]
        },
        {
            "cell_type": "code",
            "execution_count": 24,
            "metadata": {
                "azdata_cell_guid": "ac546c59-6cc2-47f1-8b71-daeb61c6475c",
                "language": "python"
            },
            "outputs": [
                {
                    "name": "stdout",
                    "output_type": "stream",
                    "text": [
                        "[2, 3, 4]\n",
                        "[0, 1, 2]\n",
                        "[3, 4, 5, 6]\n",
                        "[0, 2, 4, 6]\n",
                        "[6, 5, 4, 3, 2, 1, 0]\n"
                    ]
                }
            ],
            "source": [
                "numeros = [0, 1, 2, 3, 4, 5, 6]\n",
                "\n",
                "# Output: [2, 3, 4]\n",
                "print(numeros[2:5])\n",
                "\n",
                "# Output: [0, 1, 2]\n",
                "print(numeros[:3])\n",
                "\n",
                "# Output: [3, 4, 5, 6]\n",
                "print(numeros[3:7])\n",
                "\n",
                "# Output: [0, 2, 4, 6]\n",
                "print(numeros[::2])\n",
                "\n",
                "# Output: [6, 5, 4, 3, 2, 1, 0]\n",
                "print(numeros[::-1])"
            ]
        },
        {
            "attachments": {},
            "cell_type": "markdown",
            "metadata": {
                "azdata_cell_guid": "90552ad9-627b-42bd-84b0-f87e15cfe087"
            },
            "source": [
                "### **5\\. Operaciones Básicas con Listas**\n",
                "\n",
                "### \n",
                "\n",
                "- **Concatenación:**"
            ]
        },
        {
            "cell_type": "code",
            "execution_count": 26,
            "metadata": {
                "azdata_cell_guid": "90b5ee62-7483-4012-88a1-415f1716cb3e",
                "language": "python"
            },
            "outputs": [
                {
                    "name": "stdout",
                    "output_type": "stream",
                    "text": [
                        "[1, 2, 3, 4, 5, 6]\n"
                    ]
                }
            ],
            "source": [
                "lista1 = [1, 2, 3]\n",
                "lista2 = [4, 5, 6]\n",
                "\n",
                "#Concatenar las dos listas\n",
                "\n",
                "lista_nueva = lista1 + lista2\n",
                "print (lista_nueva)"
            ]
        },
        {
            "attachments": {},
            "cell_type": "markdown",
            "metadata": {
                "azdata_cell_guid": "912eadcc-91f2-4468-9b5a-16d0bc78cde0",
                "language": "python"
            },
            "source": [
                "- **Repetición:**"
            ]
        },
        {
            "cell_type": "code",
            "execution_count": 29,
            "metadata": {
                "azdata_cell_guid": "b5433f45-d0e6-41bf-9115-d70097905500",
                "language": "python"
            },
            "outputs": [
                {
                    "name": "stdout",
                    "output_type": "stream",
                    "text": [
                        "['Danny', 'Cris', 'Josue', 'Danny', 'Cris', 'Josue', 'Danny', 'Cris', 'Josue']\n"
                    ]
                }
            ],
            "source": [
                "#Repetir la lista1 tres veces\n",
                "estudiantes = [\"Danny\",\"Cris\",\"Josue\"]\n",
                "print (estudiantes * 3)\n"
            ]
        },
        {
            "attachments": {},
            "cell_type": "markdown",
            "metadata": {
                "azdata_cell_guid": "a1bffa0c-75b2-4adf-84c7-ea247d6d226a",
                "language": "python"
            },
            "source": [
                "### **6\\. Métodos Comunes de Listas**\n",
                "\n",
                "1. **Agregar Elementos:**\n",
                "    \n",
                "- **append(elemento):** Añade un elemento al final."
            ]
        },
        {
            "cell_type": "code",
            "execution_count": null,
            "metadata": {
                "azdata_cell_guid": "a08acaf0-4336-416b-b901-a7e88f898efc",
                "language": "python"
            },
            "outputs": [
                {
                    "name": "stdout",
                    "output_type": "stream",
                    "text": [
                        "['Cris', 'danny', 'Josue']\n",
                        "['Cris', 'danny', 'Josue', 'Derian']\n"
                    ]
                }
            ],
            "source": [
                "#Agregar una nuevo elemento\n",
                "estudiantes = [\"Cris\",\"danny\",\"Josue\"]\n",
                "print(estudiantes)\n",
                "\n",
                "estudiantes.append(\"Derian\")\n",
                "print(estudiantes)"
            ]
        },
        {
            "attachments": {},
            "cell_type": "markdown",
            "metadata": {
                "azdata_cell_guid": "1d0f59c8-cf18-4eee-9bcd-ed678e4b8a80",
                "language": "python"
            },
            "source": [
                "- **extend(iterable):** Extiende la lista con elementos de un iterable."
            ]
        },
        {
            "cell_type": "code",
            "execution_count": 45,
            "metadata": {
                "azdata_cell_guid": "ad4cd691-47dd-4b8a-a62c-5e2c5894c9c5",
                "language": "python"
            },
            "outputs": [
                {
                    "name": "stdout",
                    "output_type": "stream",
                    "text": [
                        "['Cris', 'danny', 'Josue', 'Derian']\n",
                        "['Cris', 'danny', 'Josue', 'Derian', 'Leonardo', 'Jimena']\n"
                    ]
                }
            ],
            "source": [
                "#Agregar dos elementos mas a la lista\n",
                "estudiantes = [\"Cris\",\"danny\",\"Josue\"]\n",
                "estudiantes.append(\"Derian\")\n",
                "print(estudiantes)\n",
                "translados = [\"Leonardo\",\"Jimena\"]\n",
                "estudiantes.extend(translados) # estudiantes = estudiantes + translados\n",
                "print(estudiantes)"
            ]
        },
        {
            "attachments": {},
            "cell_type": "markdown",
            "metadata": {
                "azdata_cell_guid": "3d999463-d09f-4447-b4be-b038ed530f03",
                "language": "python"
            },
            "source": [
                "- **insert(índice, elemento):** Inserta un elemento en una posición específica."
            ]
        },
        {
            "cell_type": "code",
            "execution_count": 44,
            "metadata": {
                "azdata_cell_guid": "b0b48116-a1cd-43a0-9987-75e9c99423ad",
                "language": "python"
            },
            "outputs": [
                {
                    "name": "stdout",
                    "output_type": "stream",
                    "text": [
                        "['Andres', 'Cris', 'danny', 'Josue']\n"
                    ]
                }
            ],
            "source": [
                "#Insertar en un posición especifica 1\n",
                "estudiantes = [\"Cris\",\"danny\",\"Josue\"]\n",
                "\n",
                "estudiantes.insert (0,\"Andres\")\n",
                "print (estudiantes)"
            ]
        },
        {
            "attachments": {},
            "cell_type": "markdown",
            "metadata": {
                "azdata_cell_guid": "b72219b2-85ec-48de-a0d3-d2fb2acae839",
                "language": "python"
            },
            "source": [
                "**2\\. Eliminar Elementos:**\n",
                "\n",
                "- **remove(elemento):** Elimina el primer elemento con el valor especificado."
            ]
        },
        {
            "cell_type": "code",
            "execution_count": 50,
            "metadata": {
                "azdata_cell_guid": "76056d32-857e-402e-a413-b68436e450b9",
                "language": "python"
            },
            "outputs": [
                {
                    "name": "stdout",
                    "output_type": "stream",
                    "text": [
                        "['Andres', 'Cris', 'danny', 'Josue']\n",
                        "['Cris', 'danny', 'Josue']\n"
                    ]
                }
            ],
            "source": [
                "estudiantes = [\"Andres\",\"Cris\",\"danny\",\"Josue\"]\n",
                "print (estudiantes)\n",
                "estudiantes.remove(\"Andres\")\n",
                "print (estudiantes)"
            ]
        },
        {
            "attachments": {},
            "cell_type": "markdown",
            "metadata": {
                "azdata_cell_guid": "fabd778a-c197-458f-839f-8fd3bfdb2d9b",
                "language": "python"
            },
            "source": [
                "**pop(índice):** Elimina y devuelve el elemento en el índice especificado."
            ]
        },
        {
            "cell_type": "code",
            "execution_count": 56,
            "metadata": {
                "azdata_cell_guid": "28a29944-e61c-4257-8440-db41702ecf27",
                "language": "python"
            },
            "outputs": [
                {
                    "ename": "IndexError",
                    "evalue": "pop index out of range",
                    "output_type": "error",
                    "traceback": [
                        "\u001b[31m---------------------------------------------------------------------------\u001b[39m",
                        "\u001b[31mIndexError\u001b[39m                                Traceback (most recent call last)",
                        "\u001b[36mCell\u001b[39m\u001b[36m \u001b[39m\u001b[32mIn[56]\u001b[39m\u001b[32m, line 1\u001b[39m\n\u001b[32m----> \u001b[39m\u001b[32m1\u001b[39m \u001b[43mestudiantes\u001b[49m\u001b[43m.\u001b[49m\u001b[43mpop\u001b[49m\u001b[43m \u001b[49m\u001b[43m(\u001b[49m\u001b[32;43m1\u001b[39;49m\u001b[43m)\u001b[49m\n\u001b[32m      2\u001b[39m \u001b[38;5;28mprint\u001b[39m (estudiantes)\n",
                        "\u001b[31mIndexError\u001b[39m: pop index out of range"
                    ]
                }
            ],
            "source": [
                "\n",
                "estudiantes.pop (1)\n",
                "print (estudiantes)\n"
            ]
        },
        {
            "attachments": {},
            "cell_type": "markdown",
            "metadata": {
                "azdata_cell_guid": "214e5d4b-48ef-4936-b3d7-67fc209b9413",
                "language": "python"
            },
            "source": [
                "- **clear():** Elimina todos los elementos de la lista."
            ]
        },
        {
            "cell_type": "code",
            "execution_count": 62,
            "metadata": {
                "azdata_cell_guid": "99039b69-3193-4ff5-b185-883d0c198f42",
                "language": "python"
            },
            "outputs": [
                {
                    "name": "stdout",
                    "output_type": "stream",
                    "text": [
                        "[]\n"
                    ]
                }
            ],
            "source": [
                "estudiantes = [\"Cris\",\"danny\",\"Josue\"]\n",
                "\n",
                "estudiantes.clear()\n",
                "print (estudiantes)"
            ]
        },
        {
            "attachments": {},
            "cell_type": "markdown",
            "metadata": {
                "azdata_cell_guid": "0ab9e912-56b9-4d97-a531-6a1d9be1236a",
                "language": "python"
            },
            "source": [
                "3. **Ordenar y Revertir:**\n",
                "\n",
                "- **sort():** Ordena la lista en orden ascendente."
            ]
        },
        {
            "cell_type": "code",
            "execution_count": 64,
            "metadata": {
                "azdata_cell_guid": "143cb071-e30e-4111-8584-d5165cb0277c",
                "language": "python"
            },
            "outputs": [
                {
                    "name": "stdout",
                    "output_type": "stream",
                    "text": [
                        "[1, 1, 3, 4, 5, 9]\n"
                    ]
                }
            ],
            "source": [
                "numeros = [3, 1, 4, 1, 5, 9]\n",
                "numeros.sort()\n",
                "print(numeros)"
            ]
        },
        {
            "attachments": {},
            "cell_type": "markdown",
            "metadata": {
                "azdata_cell_guid": "2a2de66a-3b2f-42bd-8acd-8af6251e89a8",
                "language": "python"
            },
            "source": [
                "**reverse():** <span style=\"color: var(--vscode-foreground);\"> Invierte el orden de la lista.</span>"
            ]
        },
        {
            "cell_type": "code",
            "execution_count": 65,
            "metadata": {
                "azdata_cell_guid": "91b18583-e7da-4457-8676-965551158de8",
                "language": "python",
                "tags": []
            },
            "outputs": [
                {
                    "name": "stdout",
                    "output_type": "stream",
                    "text": [
                        "[9, 5, 4, 3, 1, 1]\n"
                    ]
                }
            ],
            "source": [
                "# Output: [9, 5, 4, 3, 1, 1]\n",
                "numeros.reverse()\n",
                "print (numeros)"
            ]
        },
        {
            "attachments": {},
            "cell_type": "markdown",
            "metadata": {
                "azdata_cell_guid": "872eb471-9968-4c9d-9b34-f48d30e2bb52",
                "language": "python"
            },
            "source": [
                "### **Iteración sobre Listas**\n",
                "\n",
                "- **Usando un Bucle `for`:**"
            ]
        },
        {
            "cell_type": "code",
            "execution_count": 87,
            "metadata": {
                "azdata_cell_guid": "65b98600-e0c2-4a62-9d0e-a51734e898fd",
                "language": "python"
            },
            "outputs": [
                {
                    "name": "stdout",
                    "output_type": "stream",
                    "text": [
                        "Hola Cris, usted esta en Progra\n",
                        "Hola danny, usted esta en Progra\n",
                        "Hola Josue, usted esta en Progra\n",
                        "['CRIS', 'DANNY', 'JOSUE']\n"
                    ]
                }
            ],
            "source": [
                "\n",
                "estudiantes = [\"Cris\",\"danny\",\"Josue\"]\n",
                "\n",
                "for est in estudiantes:\n",
                "  print (f\"Hola {est}, usted esta en Progra\")\n",
                "  \n",
                "\n",
                "#Avanzado\n",
                "est_mayuscula = [est.upper()for est in estudiantes]\n",
                "print (est_mayuscula)\n"
            ]
        },
        {
            "cell_type": "code",
            "execution_count": 85,
            "metadata": {
                "azdata_cell_guid": "27388f2a-2d5a-4371-bcff-d151d7ddd554",
                "language": "python"
            },
            "outputs": [
                {
                    "name": "stdout",
                    "output_type": "stream",
                    "text": [
                        "ana\n",
                        "luis\n",
                        "maría\n",
                        "Samuel\n"
                    ]
                }
            ],
            "source": [
                "nombres = ['ana', 'luis', 'maría']\n",
                "nombres.append(\"Samuel\")\n",
                "for nombres in nombres:\n",
                "    print (nombres)\n",
                "\n"
            ]
        },
        {
            "cell_type": "code",
            "execution_count": null,
            "metadata": {},
            "outputs": [],
            "source": []
        },
        {
            "attachments": {},
            "cell_type": "markdown",
            "metadata": {
                "azdata_cell_guid": "d181a09f-a34a-4842-8dcd-6fdbd3d43605",
                "language": "python"
            },
            "source": [
                "- **Usando un Bucle `while`:**"
            ]
        },
        {
            "cell_type": "code",
            "execution_count": 93,
            "metadata": {
                "azdata_cell_guid": "eb35731a-c18e-484a-81b0-bae745e84bc7",
                "language": "python"
            },
            "outputs": [
                {
                    "name": "stdout",
                    "output_type": "stream",
                    "text": [
                        " edad 1. no puedes ingresar al bar,regrese el proximo año\n",
                        " edad 2. no puedes ingresar al bar,regrese el proximo año\n",
                        " edad 3. no puedes ingresar al bar,regrese el proximo año\n",
                        " edad 4. no puedes ingresar al bar,regrese el proximo año\n",
                        " edad 5. no puedes ingresar al bar,regrese el proximo año\n",
                        " edad 6. no puedes ingresar al bar,regrese el proximo año\n",
                        " edad 7. no puedes ingresar al bar,regrese el proximo año\n",
                        " edad 8. no puedes ingresar al bar,regrese el proximo año\n",
                        " edad 9. no puedes ingresar al bar,regrese el proximo año\n",
                        " edad 10. no puedes ingresar al bar,regrese el proximo año\n",
                        " edad 11. no puedes ingresar al bar,regrese el proximo año\n",
                        " edad 12. no puedes ingresar al bar,regrese el proximo año\n",
                        " edad 13. no puedes ingresar al bar,regrese el proximo año\n",
                        " edad 14. no puedes ingresar al bar,regrese el proximo año\n",
                        " edad 15. no puedes ingresar al bar,regrese el proximo año\n",
                        " edad 16. no puedes ingresar al bar,regrese el proximo año\n",
                        " edad 17. no puedes ingresar al bar,regrese el proximo año\n",
                        " edad 18. no puedes ingresar al bar,regrese el proximo año\n"
                    ]
                }
            ],
            "source": [
                "edad = 1\n",
                "\n",
                "\n",
                "while edad  <= 18:\n",
                "    if edad <= 18:\n",
                "        print (f\" edad {edad}. no puedes ingresar al bar,regrese el proximo año\")\n",
                "        edad += 1 #edad = edad +1\n",
                "\n",
                " \n"
            ]
        },
        {
            "cell_type": "code",
            "execution_count": 94,
            "metadata": {},
            "outputs": [
                {
                    "name": "stdout",
                    "output_type": "stream",
                    "text": [
                        "Cris\n",
                        "danny\n",
                        "Josue\n",
                        "Derian\n"
                    ]
                }
            ],
            "source": [
                "estudiantes = [\"Cris\",\"danny\",\"Josue\", \"Derian\"]\n",
                "i = 0 \n",
                "tamaño = len(estudiantes)\n",
                "while i < tamaño:\n",
                "    print(estudiantes[i])\n",
                "    i += 1"
            ]
        },
        {
            "attachments": {},
            "cell_type": "markdown",
            "metadata": {
                "azdata_cell_guid": "83df706e-8351-4880-82f4-cecda108ac1f",
                "language": "python"
            },
            "source": [
                "- **Comprobación de Pertenencia:**"
            ]
        },
        {
            "cell_type": "code",
            "execution_count": 101,
            "metadata": {
                "azdata_cell_guid": "8a1f9ad9-0dc5-4291-a936-d15d9caa93ca",
                "language": "python"
            },
            "outputs": [
                {
                    "name": "stdout",
                    "output_type": "stream",
                    "text": [
                        "Es estudiante de progra\n"
                    ]
                }
            ],
            "source": [
                "estudiantes = [\"Cris\",\"danny\",\"Josue\", \"Derian\"]\n",
                "\n",
                "estudiante = input(\"ingrese el nombre del estudiante\")\n",
                "\n",
                "if ( estudiante in estudiantes):\n",
                " print (\"Es estudiante de progra\")\n",
                "else:\n",
                "    print (\"No es estudiante de progra\")\n",
                "    "
            ]
        },
        {
            "attachments": {},
            "cell_type": "markdown",
            "metadata": {
                "azdata_cell_guid": "7a387c19-3988-4cdd-a37b-33becdadbb46"
            },
            "source": [
                "### **7\\. Copiando Listas**\n",
                "\n",
                "- **Asignación Directa (Referencias):**\n",
                "    \n",
                "\n",
                "Ambas variables apuntan a la misma lista en memoria."
            ]
        },
        {
            "cell_type": "code",
            "execution_count": 95,
            "metadata": {
                "azdata_cell_guid": "12496b36-600f-4f59-8607-58eafbbac4e5",
                "language": "python"
            },
            "outputs": [
                {
                    "name": "stdout",
                    "output_type": "stream",
                    "text": [
                        "[1, 2, 3, 4]\n"
                    ]
                }
            ],
            "source": [
                "lista_original = [1, 2, 3]\n",
                "lista_copia = lista_original\n",
                "lista_copia.append(4)\n",
                "print(lista_original)  # Output: [1, 2, 3, 4]"
            ]
        },
        {
            "attachments": {},
            "cell_type": "markdown",
            "metadata": {
                "azdata_cell_guid": "cf248c2d-d39b-4046-ad72-f58b181e000e",
                "language": "python"
            },
            "source": [
                "- **Copia Superficial:**\n",
                "\n",
                "Se crea una nueva lista, pero si contiene objetos mutables, estos no se copian profundamente."
            ]
        },
        {
            "cell_type": "code",
            "execution_count": 96,
            "metadata": {
                "azdata_cell_guid": "48c67f08-728c-4da5-9dac-10a87df4b875",
                "language": "python",
                "tags": []
            },
            "outputs": [],
            "source": [
                "lista_copia = lista_original.copy()\n",
                "# O\n",
                "lista_copia = lista_original[:]\n"
            ]
        },
        {
            "attachments": {},
            "cell_type": "markdown",
            "metadata": {
                "azdata_cell_guid": "348e33ef-87ca-44e8-b013-304353b0c9b8",
                "language": "python"
            },
            "source": [
                "- **Copia Profunda:**\n",
                "\n",
                "Copia completamente independiente, incluso para objetos mutables anidados."
            ]
        },
        {
            "cell_type": "code",
            "execution_count": null,
            "metadata": {
                "azdata_cell_guid": "cfa4773a-f8cc-486e-9c9e-3610f6026c4c",
                "language": "python"
            },
            "outputs": [],
            "source": [
                "import copy\n",
                "lista_copia_profunda = copy.deepcopy(lista_original)\n"
            ]
        },
        {
            "attachments": {},
            "cell_type": "markdown",
            "metadata": {
                "azdata_cell_guid": "752f7af5-c4ff-40c2-b07c-2b601006c28d",
                "language": "python"
            },
            "source": [
                "### \n",
                "\n",
                "- **Listas Anidadas**\n",
                "\n",
                "Las listas pueden contener otras listas."
            ]
        },
        {
            "cell_type": "code",
            "execution_count": 97,
            "metadata": {
                "azdata_cell_guid": "d510a921-a322-48da-a3aa-fe23d30fcc36",
                "language": "python"
            },
            "outputs": [
                {
                    "name": "stdout",
                    "output_type": "stream",
                    "text": [
                        "3\n"
                    ]
                }
            ],
            "source": [
                "lista_anidada = [[1, 2], [3, 4], [5, 6]]\n",
                "print(lista_anidada[1][0])  # Output: 3\n"
            ]
        },
        {
            "attachments": {},
            "cell_type": "markdown",
            "metadata": {
                "azdata_cell_guid": "0e8ba81c-d786-4eda-8549-651a813c1054",
                "language": "python"
            },
            "source": [
                "### **10. Funciones Integradas Útiles**\n",
                "\n",
                "numeros = \\[1, 2, 3, 4, 5, 6\\]\n",
                "\n",
                "- **len(lista):** Devuelve el número de elementos.\n",
                "    \n",
                "    ```python\n",
                "    print(len(numeros))  # Output: 6\n",
                "    ```\n",
                "    \n",
                "- **sum(lista):** Suma los elementos (si son numéricos).\n",
                "    \n",
                "   ```python\n",
                "    print(sum(numeros))  # Output: 21\n",
                "    ```\n",
                "    \n",
                "- **min(lista), max(lista):** Devuelve el valor mínimo y máximo.\n",
                "    \n",
                "     ```python\n",
                "    print(min(numeros))  # Output: 1print(max(numeros))  # Output: 6\n",
                "    \n",
                "    ```\n",
                "    \n",
                "\n",
                "### **Aplicaciones Prácticas de las Listas**"
            ]
        },
        {
            "cell_type": "code",
            "execution_count": 104,
            "metadata": {},
            "outputs": [
                {
                    "name": "stdout",
                    "output_type": "stream",
                    "text": [
                        "100\n",
                        "45\n",
                        "491\n",
                        "6\n",
                        "Promedio de notas 81.83333333333333\n"
                    ]
                }
            ],
            "source": [
                "from statistics import mean\n",
                "Notas = [98, 83, 70, 45, 95, 100]\n",
                "\n",
                "print(max(Notas))\n",
                "\n",
                "print(min(Notas))\n",
                "\n",
                "print(sum(Notas))\n",
                "\n",
                "print(len(Notas))\n",
                "\n",
                "promedio = sum(Notas) / len(Notas)\n",
                "print (\"Promedio de notas\",promedio)\n",
                "\n",
                "promedio = mean(Notas)\n"
            ]
        },
        {
            "attachments": {},
            "cell_type": "markdown",
            "metadata": {
                "azdata_cell_guid": "c24a4bae-ea4c-485d-8067-d5e07afb3435",
                "language": "python"
            },
            "source": [
                "# **Actividad Interactiva: Análisis de Datos Simple con Listas**\n",
                "\n",
                "**Objetivo:** Aplicar los conceptos aprendidos sobre listas para realizar un análisis de datos sencillo.\n",
                "\n",
                "**Descripción de la Actividad:**\n",
                "\n",
                "Trabajaremos con una lista de temperaturas registradas durante una semana y realizarán varias operaciones para extraer información útil.\n",
                "\n",
                "**Pasos de la Actividad:**\n",
                "\n",
                "1. **Creación de la Lista de Datos:**"
            ]
        },
        {
            "cell_type": "code",
            "execution_count": null,
            "metadata": {
                "azdata_cell_guid": "9632a0a3-3979-4a34-b08b-82179de35bc0",
                "language": "python"
            },
            "outputs": [],
            "source": [
                "#               Lu  Ma  Mi  Ju  Vi  Sa  Do\n",
                "temperaturas = [22, 24, 19, 23, 25, 20, 21]"
            ]
        },
        {
            "attachments": {},
            "cell_type": "markdown",
            "metadata": {
                "azdata_cell_guid": "53602225-9571-4b97-af9b-0921d1a8b986",
                "language": "python"
            },
            "source": [
                "2. **Calcular la Temperatura Media de la Semana:**"
            ]
        },
        {
            "cell_type": "code",
            "execution_count": 122,
            "metadata": {
                "azdata_cell_guid": "07d09035-3640-4277-9d81-c086f12e07d6",
                "language": "python"
            },
            "outputs": [
                {
                    "name": "stdout",
                    "output_type": "stream",
                    "text": [
                        "[22, 24, 19, 23, 25, 20, 21]\n",
                        "154\n",
                        "La temperatura media es de 22.0\n"
                    ]
                }
            ],
            "source": [
                "\n",
                "temperaturas = [22, 24, 19, 23, 25, 20, 21]\n",
                "print(temperaturas)\n",
                "print (sum(temperaturas))\n",
                "\n",
                "promedio = sum(temperaturas) / len(temperaturas)\n",
                "print (\"La temperatura media es de\",promedio)"
            ]
        },
        {
            "attachments": {},
            "cell_type": "markdown",
            "metadata": {
                "azdata_cell_guid": "1516e477-febc-478a-b4dc-faca948b9b44",
                "language": "python"
            },
            "source": [
                "3. **Encontrar la Temperatura Máxima y Mínima:**"
            ]
        },
        {
            "cell_type": "code",
            "execution_count": 136,
            "metadata": {
                "azdata_cell_guid": "fa450303-5f00-4c59-a3c8-ace9daea9196",
                "language": "python"
            },
            "outputs": [
                {
                    "name": "stdout",
                    "output_type": "stream",
                    "text": [
                        "[22, 24, 19, 23, 25, 20, 21]\n",
                        "la temperatura minima fue de 19\n",
                        "la temperatura maxima fue de 25\n"
                    ]
                }
            ],
            "source": [
                "temperaturas = [22, 24, 19, 23, 25, 20, 21]\n",
                "print(temperaturas)\n",
                "\n",
                "mini=(min(temperaturas))\n",
                "print (\"la temperatura minima fue de\",mini)\n",
                "\n",
                "maxi=(max(temperaturas))\n",
                "print (\"la temperatura maxima fue de\",maxi)\n",
                "\n"
            ]
        },
        {
            "attachments": {},
            "cell_type": "markdown",
            "metadata": {
                "azdata_cell_guid": "af7ad57b-4cdd-444f-a6bf-b3cb9b531c7e",
                "language": ""
            },
            "source": [
                "4. **Días con Temperatura por Encima de la Media:**"
            ]
        },
        {
            "cell_type": "code",
            "execution_count": 146,
            "metadata": {
                "azdata_cell_guid": "9e4ad645-b57a-46c6-9a9b-4accd0fbab0c",
                "language": "python"
            },
            "outputs": [
                {
                    "name": "stdout",
                    "output_type": "stream",
                    "text": [
                        "la temperatura 22 grados, esta por encima de la media\n",
                        "la temperatura 24 grados, esta por encima de la media\n",
                        "la temperatura 19 grados, no esta por encima de la media\n",
                        "la temperatura 23 grados, esta por encima de la media\n",
                        "la temperatura 25 grados, esta por encima de la media\n",
                        "la temperatura 20 grados, no esta por encima de la media\n",
                        "la temperatura 21 grados, no esta por encima de la media\n"
                    ]
                }
            ],
            "source": [
                "temperaturas = [22, 24, 19, 23, 25, 20, 21]\n",
                "for temperatura in temperaturas:\n",
                "    if temperatura >= 22:\n",
                "        print (f\"la temperatura {temperatura} grados, esta por encima de la media\")\n",
                "    else:\n",
                "        print (f\"la temperatura {temperatura} grados, no esta por encima de la media\")\n"
            ]
        },
        {
            "attachments": {},
            "cell_type": "markdown",
            "metadata": {
                "azdata_cell_guid": "a5cb67cf-7434-4871-82b6-ef58b167bb6e",
                "language": "python"
            },
            "source": [
                "5. **Modificar la Lista para Incluir una Nueva Temperatura y Recalcular:**\n",
                "\n",
                "- Agregar la temperatura del día extra:"
            ]
        },
        {
            "cell_type": "code",
            "execution_count": 143,
            "metadata": {
                "azdata_cell_guid": "7ee71561-594c-4d97-b706-4f2a2bb63c2f",
                "language": "python"
            },
            "outputs": [
                {
                    "name": "stdout",
                    "output_type": "stream",
                    "text": [
                        "nueva lista:[22, 24, 19, 23, 25, 20, 21, 16]\n"
                    ]
                }
            ],
            "source": [
                "temperaturas = [22, 24, 19, 23, 25, 20, 21]\n",
                "\n",
                "temperaturas.append (16)\n",
                "print(f\"nueva lista:{temperaturas}\")"
            ]
        },
        {
            "attachments": {},
            "cell_type": "markdown",
            "metadata": {
                "azdata_cell_guid": "c9ab22f0-6c9d-43d9-9c5c-12589b7e878e",
                "language": "python"
            },
            "source": [
                "- **Recalcular la temperatura media:**"
            ]
        },
        {
            "cell_type": "code",
            "execution_count": 138,
            "metadata": {
                "azdata_cell_guid": "2b9302b0-9e3d-4b31-9970-fe7888d6943b",
                "language": "python"
            },
            "outputs": [
                {
                    "name": "stdout",
                    "output_type": "stream",
                    "text": [
                        "[22, 24, 19, 23, 25, 20, 21]\n",
                        "la suma de las temperaturas es de 154\n",
                        "La temperatura media es de 22.0\n"
                    ]
                }
            ],
            "source": [
                "print(temperaturas)\n",
                "suma=(sum(temperaturas))\n",
                "print (\"la suma de las temperaturas es de\",suma)\n",
                "\n",
                "promedio = sum(temperaturas) / len(temperaturas)\n",
                "print (\"La temperatura media es de\",promedio)"
            ]
        },
        {
            "attachments": {},
            "cell_type": "markdown",
            "metadata": {
                "azdata_cell_guid": "01af2113-4fe5-4822-8e15-0a5c4f07d330",
                "language": "python"
            },
            "source": [
                "6. **Ordenar las Temperaturas y Mostrar el Resultado:**"
            ]
        },
        {
            "cell_type": "code",
            "execution_count": 144,
            "metadata": {
                "azdata_cell_guid": "b5678c84-09d7-43b3-b63c-b7473d31b781",
                "language": "python"
            },
            "outputs": [
                {
                    "name": "stdout",
                    "output_type": "stream",
                    "text": [
                        "el orden menor a mayor temperatura: [16, 19, 20, 21, 22, 23, 24, 25]\n"
                    ]
                }
            ],
            "source": [
                "temperaturas.sort ()\n",
                "print (\"el orden menor a mayor temperatura:\",temperaturas)"
            ]
        },
        {
            "attachments": {},
            "cell_type": "markdown",
            "metadata": {
                "azdata_cell_guid": "6016e3d3-8a04-4dd4-a69a-31ebd14bc46c",
                "language": "python"
            },
            "source": [
                "**Extensión de la Actividad:**\n",
                "\n",
                "- **Visualización Simple:**\n",
                "    \n",
                "    Los estudiantes pueden crear un gráfico de las temperaturas usando `matplotlib` (si se ha visto previamente)."
            ]
        },
        {
            "cell_type": "code",
            "execution_count": 142,
            "metadata": {},
            "outputs": [
                {
                    "name": "stdout",
                    "output_type": "stream",
                    "text": [
                        "Collecting matplotlib\n",
                        "  Downloading matplotlib-3.10.5-cp313-cp313-win_amd64.whl.metadata (11 kB)\n",
                        "Collecting contourpy>=1.0.1 (from matplotlib)\n",
                        "  Downloading contourpy-1.3.3-cp313-cp313-win_amd64.whl.metadata (5.5 kB)\n",
                        "Collecting cycler>=0.10 (from matplotlib)\n",
                        "  Downloading cycler-0.12.1-py3-none-any.whl.metadata (3.8 kB)\n",
                        "Collecting fonttools>=4.22.0 (from matplotlib)\n",
                        "  Downloading fonttools-4.59.0-cp313-cp313-win_amd64.whl.metadata (110 kB)\n",
                        "Collecting kiwisolver>=1.3.1 (from matplotlib)\n",
                        "  Downloading kiwisolver-1.4.8-cp313-cp313-win_amd64.whl.metadata (6.3 kB)\n",
                        "Collecting numpy>=1.23 (from matplotlib)\n",
                        "  Downloading numpy-2.3.2-cp313-cp313-win_amd64.whl.metadata (60 kB)\n",
                        "Requirement already satisfied: packaging>=20.0 in c:\\users\\anluc\\appdata\\roaming\\python\\python313\\site-packages (from matplotlib) (25.0)\n",
                        "Collecting pillow>=8 (from matplotlib)\n",
                        "  Downloading pillow-11.3.0-cp313-cp313-win_amd64.whl.metadata (9.2 kB)\n",
                        "Collecting pyparsing>=2.3.1 (from matplotlib)\n",
                        "  Downloading pyparsing-3.2.3-py3-none-any.whl.metadata (5.0 kB)\n",
                        "Requirement already satisfied: python-dateutil>=2.7 in c:\\users\\anluc\\appdata\\roaming\\python\\python313\\site-packages (from matplotlib) (2.9.0.post0)\n",
                        "Requirement already satisfied: six>=1.5 in c:\\users\\anluc\\appdata\\roaming\\python\\python313\\site-packages (from python-dateutil>=2.7->matplotlib) (1.17.0)\n",
                        "Downloading matplotlib-3.10.5-cp313-cp313-win_amd64.whl (8.1 MB)\n",
                        "   ---------------------------------------- 0.0/8.1 MB ? eta -:--:--\n",
                        "   -- ------------------------------------- 0.5/8.1 MB 2.8 MB/s eta 0:00:03\n",
                        "   ------ --------------------------------- 1.3/8.1 MB 3.1 MB/s eta 0:00:03\n",
                        "   --------- ------------------------------ 1.8/8.1 MB 3.2 MB/s eta 0:00:02\n",
                        "   ------------ --------------------------- 2.6/8.1 MB 3.2 MB/s eta 0:00:02\n",
                        "   --------------- ------------------------ 3.1/8.1 MB 3.2 MB/s eta 0:00:02\n",
                        "   ------------------- -------------------- 3.9/8.1 MB 3.2 MB/s eta 0:00:02\n",
                        "   ----------------------- ---------------- 4.7/8.1 MB 3.2 MB/s eta 0:00:02\n",
                        "   ------------------------- -------------- 5.2/8.1 MB 3.2 MB/s eta 0:00:01\n",
                        "   ---------------------------- ----------- 5.8/8.1 MB 3.2 MB/s eta 0:00:01\n",
                        "   -------------------------------- ------- 6.6/8.1 MB 3.2 MB/s eta 0:00:01\n",
                        "   ------------------------------------ --- 7.3/8.1 MB 3.2 MB/s eta 0:00:01\n",
                        "   -------------------------------------- - 7.9/8.1 MB 3.2 MB/s eta 0:00:01\n",
                        "   ---------------------------------------- 8.1/8.1 MB 3.1 MB/s eta 0:00:00\n",
                        "Downloading contourpy-1.3.3-cp313-cp313-win_amd64.whl (226 kB)\n",
                        "Downloading cycler-0.12.1-py3-none-any.whl (8.3 kB)\n",
                        "Downloading fonttools-4.59.0-cp313-cp313-win_amd64.whl (2.2 MB)\n",
                        "   ---------------------------------------- 0.0/2.2 MB ? eta -:--:--\n",
                        "   --------- ------------------------------ 0.5/2.2 MB 3.1 MB/s eta 0:00:01\n",
                        "   ----------------------- ---------------- 1.3/2.2 MB 3.0 MB/s eta 0:00:01\n",
                        "   -------------------------------- ------- 1.8/2.2 MB 3.1 MB/s eta 0:00:01\n",
                        "   ---------------------------------------- 2.2/2.2 MB 2.9 MB/s eta 0:00:00\n",
                        "Downloading kiwisolver-1.4.8-cp313-cp313-win_amd64.whl (71 kB)\n",
                        "Downloading numpy-2.3.2-cp313-cp313-win_amd64.whl (12.8 MB)\n",
                        "   ---------------------------------------- 0.0/12.8 MB ? eta -:--:--\n",
                        "   - -------------------------------------- 0.5/12.8 MB 2.9 MB/s eta 0:00:05\n",
                        "   ---- ----------------------------------- 1.3/12.8 MB 3.2 MB/s eta 0:00:04\n",
                        "   ------ --------------------------------- 2.1/12.8 MB 3.2 MB/s eta 0:00:04\n",
                        "   -------- ------------------------------- 2.6/12.8 MB 3.1 MB/s eta 0:00:04\n",
                        "   ---------- ----------------------------- 3.4/12.8 MB 3.2 MB/s eta 0:00:03\n",
                        "   ------------ --------------------------- 3.9/12.8 MB 3.1 MB/s eta 0:00:03\n",
                        "   -------------- ------------------------- 4.7/12.8 MB 3.2 MB/s eta 0:00:03\n",
                        "   ----------------- ---------------------- 5.5/12.8 MB 3.2 MB/s eta 0:00:03\n",
                        "   ------------------ --------------------- 6.0/12.8 MB 3.2 MB/s eta 0:00:03\n",
                        "   --------------------- ------------------ 6.8/12.8 MB 3.2 MB/s eta 0:00:02\n",
                        "   ---------------------- ----------------- 7.3/12.8 MB 3.2 MB/s eta 0:00:02\n",
                        "   ------------------------- -------------- 8.1/12.8 MB 3.2 MB/s eta 0:00:02\n",
                        "   --------------------------- ------------ 8.7/12.8 MB 3.2 MB/s eta 0:00:02\n",
                        "   ----------------------------- ---------- 9.4/12.8 MB 3.2 MB/s eta 0:00:02\n",
                        "   ------------------------------- -------- 10.0/12.8 MB 3.2 MB/s eta 0:00:01\n",
                        "   --------------------------------- ------ 10.7/12.8 MB 3.2 MB/s eta 0:00:01\n",
                        "   ------------------------------------ --- 11.5/12.8 MB 3.2 MB/s eta 0:00:01\n",
                        "   ------------------------------------- -- 12.1/12.8 MB 3.2 MB/s eta 0:00:01\n",
                        "   ---------------------------------------  12.6/12.8 MB 3.2 MB/s eta 0:00:01\n",
                        "   ---------------------------------------- 12.8/12.8 MB 3.1 MB/s eta 0:00:00\n",
                        "Downloading pillow-11.3.0-cp313-cp313-win_amd64.whl (7.0 MB)\n",
                        "   ---------------------------------------- 0.0/7.0 MB ? eta -:--:--\n",
                        "   --- ------------------------------------ 0.5/7.0 MB 4.0 MB/s eta 0:00:02\n",
                        "   ------ --------------------------------- 1.0/7.0 MB 3.3 MB/s eta 0:00:02\n",
                        "   --------- ------------------------------ 1.6/7.0 MB 2.9 MB/s eta 0:00:02\n",
                        "   ------------- -------------------------- 2.4/7.0 MB 3.0 MB/s eta 0:00:02\n",
                        "   ------------------ --------------------- 3.1/7.0 MB 3.1 MB/s eta 0:00:02\n",
                        "   --------------------- ------------------ 3.7/7.0 MB 3.1 MB/s eta 0:00:02\n",
                        "   ------------------------- -------------- 4.5/7.0 MB 3.1 MB/s eta 0:00:01\n",
                        "   ---------------------------- ----------- 5.0/7.0 MB 3.1 MB/s eta 0:00:01\n",
                        "   --------------------------------- ------ 5.8/7.0 MB 3.1 MB/s eta 0:00:01\n",
                        "   ------------------------------------- -- 6.6/7.0 MB 3.1 MB/s eta 0:00:01\n",
                        "   ---------------------------------------- 7.0/7.0 MB 3.0 MB/s eta 0:00:00\n",
                        "Downloading pyparsing-3.2.3-py3-none-any.whl (111 kB)\n",
                        "Installing collected packages: pyparsing, pillow, numpy, kiwisolver, fonttools, cycler, contourpy, matplotlib\n",
                        "Successfully installed contourpy-1.3.3 cycler-0.12.1 fonttools-4.59.0 kiwisolver-1.4.8 matplotlib-3.10.5 numpy-2.3.2 pillow-11.3.0 pyparsing-3.2.3\n",
                        "Note: you may need to restart the kernel to use updated packages.\n"
                    ]
                },
                {
                    "name": "stderr",
                    "output_type": "stream",
                    "text": [
                        "\n",
                        "[notice] A new release of pip is available: 25.0.1 -> 25.2\n",
                        "[notice] To update, run: python.exe -m pip install --upgrade pip\n"
                    ]
                }
            ],
            "source": [
                "pip install matplotlib"
            ]
        },
        {
            "cell_type": "code",
            "execution_count": 145,
            "metadata": {
                "azdata_cell_guid": "cea0661b-608d-4073-8286-960365e894e8",
                "language": ""
            },
            "outputs": [
                {
                    "name": "stderr",
                    "output_type": "stream",
                    "text": [
                        "Matplotlib is building the font cache; this may take a moment.\n"
                    ]
                },
                {
                    "data": {
                        "image/png": "[encoded data removed]",
                        "text/plain": [
                            "<Figure size 640x480 with 1 Axes>"
                        ]
                    },
                    "metadata": {},
                    "output_type": "display_data"
                }
            ],
            "source": [
                "import matplotlib.pyplot as plt\n",
                "\n",
                "dias = ['Lun', 'Mar', 'Mié', 'Jue', 'Vie', 'Sáb', 'Dom', 'Extra']\n",
                "plt.plot(dias, temperaturas, marker='o')\n",
                "plt.title('Temperaturas Semanales')\n",
                "plt.xlabel('Días')\n",
                "plt.ylabel('Temperatura (°C)')\n",
                "plt.show()\n"
            ]
        }
    ],
    "metadata": {
        "kernelspec": {
            "display_name": "Python 3",
            "language": "python",
            "name": "python3"
        },
        "language_info": {
            "codemirror_mode": {
                "name": "ipython",
                "version": 3
            },
            "file_extension": ".py",
            "mimetype": "text/x-python",
            "name": "python",
            "nbconvert_exporter": "python",
            "pygments_lexer": "ipython3",
            "version": "3.13.3"
        }
    },
    "nbformat": 4,
    "nbformat_minor": 2
}
