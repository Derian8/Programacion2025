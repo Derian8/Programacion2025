{
 "cells": [
  {
   "cell_type": "markdown",
   "metadata": {},
   "source": [
    "# NOTEBOOK 02 - Tipos de datos y Variables\n",
    "## Fundamentos de Programación: Tipos de Datos, Variables y Operaciones Básicas\n",
    "### Prof: Ing. Andrés Mena Abarca\n",
    "\n",
    "> ## Nombre del estudiante: Derian Acuña Rojas"
   ]
  },
  {
   "cell_type": "markdown",
   "metadata": {},
   "source": [
    "\n",
    "\n",
    "---\n",
    "\n",
    "## 1. Tipos de Datos en Python\n",
    "## **1. Introducción a los Tipos de Datos Básicos**\n",
    "\n",
    "### **Explicación:**\n",
    "En Python, los tipos de datos básicos son los bloques fundamentales para almacenar y manipular información. Estos tipos son:\n",
    "\n",
    "1. **`int` (Enteros):**\n",
    "   - Representan números enteros, positivos o negativos.\n",
    "   - Ejemplos: `5`, `-10`, `1000`.\n",
    "   - No tienen límite de tamaño (dependen de la memoria disponible).\n",
    "\n",
    "2. **`float` (Decimales):**\n",
    "   - Representan números con parte decimal.\n",
    "   - Ejemplos: `3.14`, `-0.001`, `2.0`.\n",
    "   - Se almacenan con una precisión limitada (aproximadamente 15 decimales).\n",
    "\n",
    "3. **`str` (Cadenas de Texto):**\n",
    "   - Representan secuencias de caracteres.\n",
    "   - Se definen entre comillas simples (`'Hola'`) o dobles (`\"Python\"`).\n",
    "   - Son inmutables (no se pueden modificar después de crearse).\n",
    "\n",
    "4. **`bool` (Booleanos):**\n",
    "   - Representan valores lógicos: `True` (verdadero) o `False` (falso).\n",
    "   - Se usan en condiciones y operaciones lógicas.\n",
    "\n",
    "### **Práctica:**\n",
    "\n",
    "```python\n",
    "# Declara variables de cada tipo\n",
    "edad = 25  # int\n",
    "altura = 1.75  # float\n",
    "nombre = \"Ana\"  # str\n",
    "es_estudiante = True  # bool\n",
    "\n",
    "# Muestra el tipo de cada variable usando la función type()\n",
    "print(type(edad))  # <class 'int'>\n",
    "print(type(altura))  # <class 'float'>\n",
    "print(type(nombre))  # <class 'str'>\n",
    "print(type(es_estudiante))  # <class 'bool'>\n",
    "\n",
    "## Ejercicios \n",
    "\n",
    "1. Declara una variable de tipo entero y asigna el valor *25*. Luego, imprime su tipo."
   ]
  },
  {
   "cell_type": "code",
   "execution_count": null,
   "metadata": {},
   "outputs": [
    {
     "name": "stdout",
     "output_type": "stream",
     "text": [
      "Mi nombre es Derian, mido (1, 68),Tengo 16 años, soy estudiante True\n",
      "<class 'int'>\n",
      "<class 'tuple'>\n",
      "<class 'str'>\n",
      "<class 'bool'>\n"
     ]
    }
   ],
   "source": [
    "Edad = 16\n",
    "altura = 1,68\n",
    "nombre = \"Derian\"\n",
    "es_estudiante= True\n",
    "\n",
    "print(f\"Mi nombre es {nombre}, mido {altura},Tengo {Edad} años, soy estudiante {es_estudiante}\")\n",
    "\n",
    "print(type(Edad))\n",
    "print(type(altura))\n",
    "print(type(nombre))\n",
    "print(type(es_estudiante))\n",
    "\n"
   ]
  },
  {
   "cell_type": "markdown",
   "metadata": {},
   "source": [
    "2. Declara una variable de tipo flotante con el valor *3.1416*. Imprime su tipo.\n"
   ]
  },
  {
   "cell_type": "code",
   "execution_count": null,
   "metadata": {},
   "outputs": [
    {
     "name": "stdout",
     "output_type": "stream",
     "text": [
      "valor PI {1.1416}\n",
      "<class 'float'>\n"
     ]
    }
   ],
   "source": [
    "pi =  float(input(\"Ingrese el valor de PI:\"))\n",
    "print (f\"valor PI\",{pi})\n",
    "print (type(pi))"
   ]
  },
  {
   "cell_type": "markdown",
   "metadata": {},
   "source": [
    "3. Crea una variable es_estudiante que almacene un valor booleano indicando si eres estudiante."
   ]
  },
  {
   "cell_type": "code",
   "execution_count": null,
   "metadata": {},
   "outputs": [
    {
     "name": "stdout",
     "output_type": "stream",
     "text": [
      " el estudiante es True\n",
      "<class 'bool'>\n"
     ]
    }
   ],
   "source": [
    "es_estudiante=bool(input(\"eres estudiante? [True/False]:\"))\n",
    "print (f\" es estudiante?  {es_estudiante}\")\n",
    "print (type(es_estudiante))\n"
   ]
  },
  {
   "cell_type": "markdown",
   "metadata": {},
   "source": [
    "## 2. Variables en Python\n",
    "\n",
    "### Teoría\n",
    "Las variables son espacios de memoria donde almacenamos datos. En Python, no es necesario declarar el tipo de la variable, simplemente se asigna un valor con el símbolo `=`.\n",
    "\n",
    "#### Reglas para nombrar variables:\n",
    "- Deben comenzar con una letra o un guion bajo.\n",
    "- No pueden comenzar con un número.\n",
    "- Solo pueden contener letras, números y guiones bajos.\n",
    "- Son sensibles a mayúsculas y minúsculas (`nombre` y `Nombre` son diferentes).\n",
    "\n",
    "### Ejemplo"
   ]
  },
  {
   "cell_type": "code",
   "execution_count": null,
   "metadata": {},
   "outputs": [
    {
     "ename": "IndentationError",
     "evalue": "unexpected indent (810210536.py, line 10)",
     "output_type": "error",
     "traceback": [
      "  \u001b[36mCell\u001b[39m\u001b[36m \u001b[39m\u001b[32mIn[5]\u001b[39m\u001b[32m, line 10\u001b[39m\n\u001b[31m    \u001b[39m\u001b[31mvariable_2 = 10  # Error: no puede comenzar con un número\u001b[39m\n    ^\n\u001b[31mIndentationError\u001b[39m\u001b[31m:\u001b[39m unexpected indent\n"
     ]
    }
   ],
   "source": [
    "# Declaración de variables\n",
    "mi_nombre = \"Carlos\"\n",
    "edad = 20\n",
    "\n",
    "# Variables válidas\n",
    "nombre_completo = \"Ana Pérez\"\n",
    "_variable_secreta = 42 # convención para indicar que esa variable es protegida.\n",
    "\n",
    "# Variables inválidas (descomentar para ver los errores)\n",
    " variable_2 = 10  # Error: no puede comenzar con un número\n",
    " nombre completo = \"Juan\"  # Error: no puede contener espacios"
   ]
  },
  {
   "cell_type": "code",
   "execution_count": null,
   "metadata": {},
   "outputs": [
    {
     "name": "stdout",
     "output_type": "stream",
     "text": [
      "el promedio de estas dos notas es de: 127.5\n",
      "se llama Derian,su edad es de 16,su nota en mate es de 88.0,la nota en español es de 79.0,\n",
      "el estudiante Derian, aprueba\n"
     ]
    }
   ],
   "source": [
    "#Sistema de registro de estudiantes\n",
    "es_estudiante=str(input(\"ingrese el nombre del estudiante\"))\n",
    "edadest= int(input(\"la edad del estudiante\"))\n",
    "Notmate= float(input(\"nota obtenida en matematicas?\"))\n",
    "Notespa= float(input(\"Nota obtenida en español?\"))\n",
    "\n",
    "promedio = Notmate + Notespa / 2\n",
    "print (\"el promedio de estas dos notas es de:\",promedio)\n",
    "print (f\"se llama {es_estudiante},su edad es de {edadest},su nota en mate es de {Notmate},la nota en español es de {Notespa},\")\n",
    "if promedio >= 70:\n",
    "    print(f\"el estudiante {es_estudiante}, aprueba\")\n",
    "    \n",
    "else:\n",
    "    print (f\"el esstudiante {es_estudiante}, no aprueba\")"
   ]
  },
  {
   "cell_type": "markdown",
   "metadata": {},
   "source": [
    "## 3. Operaciones Básicas de Entrada y Salida\n",
    "\n",
    "### Teoría\n",
    "Las operaciones de entrada y salida son fundamentales para interactuar con el usuario. En Python, utilizamos la función `input()` para capturar datos del usuario y `print()` para mostrar información en pantalla.\n",
    "\n",
    "### Ejemplos"
   ]
  },
  {
   "cell_type": "code",
   "execution_count": null,
   "metadata": {},
   "outputs": [
    {
     "name": "stdout",
     "output_type": "stream",
     "text": [
      "¡Hola, mundo!\n",
      "su nombre es derian\n"
     ]
    }
   ],
   "source": [
    "# Operación de salida\n",
    "print(\"¡Hola, mundo!\")\n",
    "\n",
    "# Operación de entrada + Saalida con format\n",
    "nombre = input(\"ingrese su nombre por favor\")\n",
    "print(f\"su nombre es {nombre}\")"
   ]
  },
  {
   "cell_type": "markdown",
   "metadata": {},
   "source": [
    "En otros lenguajes, como *Java*, el proceso es similar pero con algunas diferencias en la sintaxis:\n",
    "\n",
    "```Java\n",
    "// Ejemplo en Java\n",
    "import java.util.Scanner;\n",
    "\n",
    "public class EntradaSalida {\n",
    "    public static void main(String[] args) {\n",
    "        Scanner input = new Scanner(System.in);\n",
    "        System.out.print(\"¿Cómo te llamas? \");\n",
    "        String nombre = input.nextLine();\n",
    "        System.out.println(\"Hola, \" + nombre + \"!\");\n",
    "    }\n",
    "}\n",
    "\n",
    "```"
   ]
  },
  {
   "cell_type": "markdown",
   "metadata": {},
   "source": [
    "## 4. Operadores Básicos en Python\n",
    "\n",
    "### Teoría\n",
    "Los operadores en Python nos permiten realizar diversas operaciones con variables y datos. Los más comunes son:\n",
    "\n",
    "- **Operadores matemáticos**: `+`, `-`, `*`, `/`, `//` (división entera), `%` (módulo)\n",
    "- **Operadores de asignación**: `=`, `+=`, `-=`, `*=`, `/=`\n",
    "- **Operadores de comparación**: `==`, `!=`, `<`, `>`, `<=`, `>=`\n",
    "- **Operadores lógicos**: `and`, `or`, `not`\n",
    "\n",
    "### Tabla de Operadores Matemáticos\n",
    "\n",
    "| Operador | Descripción           | Ejemplo           |\n",
    "|----------|-----------------------|-------------------|\n",
    "| `+`      | Suma                  | `5 + 3 = 8`       |\n",
    "| `-`      | Resta                 | `5 - 2 = 3`       |\n",
    "| `*`      | Multiplicación         | `5 * 2 = 10`      |\n",
    "| `/`      | División              | `10 / 2 = 5.0`    |\n",
    "| `//`     | División entera        | `10 // 3 = 3`     |\n",
    "| `%`      | Módulo (resto)         | `10 % 3 = 1`      |\n",
    "\n",
    "### Ejemplos"
   ]
  },
  {
   "cell_type": "markdown",
   "metadata": {},
   "source": [
    "#### Problema 1: Operadores Matemáticos y Comparación en Python\n",
    "\n",
    "Tienes dos variables `a = 10` y `b = 5`. Realiza las siguientes operaciones matemáticas:"
   ]
  },
  {
   "cell_type": "code",
   "execution_count": null,
   "metadata": {},
   "outputs": [
    {
     "name": "stdout",
     "output_type": "stream",
     "text": [
      "El resultado de la suma es de  15\n",
      "el resultado de la resta es de 5\n",
      "el resultado de la multiplicacion es de 50\n",
      "el resultado de la division es de 2.0\n",
      "el resultado de la division entera es de 2\n",
      "el resultado del Modulo es de 0\n"
     ]
    }
   ],
   "source": [
    "# Asignacón de variables\n",
    "a = 10\n",
    "b = 5\n",
    "\n",
    "print (\"El resultado de la suma es de \", a + b)\n",
    "print (\"el resultado de la resta es de\", a - b )\n",
    "print (\"el resultado de la multiplicacion es de\", a * b )\n",
    "print (\"el resultado de la division es de\", a / b)\n",
    "print (\"el resultado de la division entera es de\", a // b )\n",
    "print (\"el resultado del Modulo es de\", a % b)\n",
    "\n",
    "# Suma y resta\n"
   ]
  },
  {
   "cell_type": "markdown",
   "metadata": {},
   "source": [
    "#### Práctica:\n",
    "> Función para calcular el área de un círculo:"
   ]
  },
  {
   "cell_type": "code",
   "execution_count": 8,
   "metadata": {},
   "outputs": [
    {
     "ename": "SyntaxError",
     "evalue": "unterminated f-string literal (detected at line 7) (1485550399.py, line 7)",
     "output_type": "error",
     "traceback": [
      "  \u001b[36mCell\u001b[39m\u001b[36m \u001b[39m\u001b[32mIn[8]\u001b[39m\u001b[32m, line 7\u001b[39m\n\u001b[31m    \u001b[39m\u001b[31mprint(f\"{n}*{i}= {resultado})\u001b[39m\n          ^\n\u001b[31mSyntaxError\u001b[39m\u001b[31m:\u001b[39m unterminated f-string literal (detected at line 7)\n"
     ]
    }
   ],
   "source": [
    "n= int(input(\"ingrese un numero entero\"))\n",
    "i = 1\n",
    "print(f\"la tabla de multiplicar es la del {n}\")\n",
    "\n",
    "while i <=10:\n",
    "    resultado = n * i\n",
    "print(f\"{n}*{i}= {resultado})\n",
    "\n",
    "\n",
    "i+=1"
   ]
  },
  {
   "cell_type": "code",
   "execution_count": null,
   "metadata": {},
   "outputs": [
    {
     "name": "stdout",
     "output_type": "stream",
     "text": [
      "el radio del circulo es de 15.0\n",
      "el area del circulo es de 706.8583470577034\n"
     ]
    }
   ],
   "source": [
    "#Construir función\n",
    "from math import pi\n",
    "\n",
    "radio = float(input(\"ingrese la medida del radio del circulo\"))\n",
    "print (\"el radio del circulo es de\", radio )\n",
    "Area = pi * radio ** 2\n",
    "\n",
    "print (\"el area del circulo es de\", Area )"
   ]
  },
  {
   "cell_type": "markdown",
   "metadata": {},
   "source": [
    "#### Problema 2: Comparación de Números\n",
    "Usa los siguientes operadores de comparación para verificar la relación entre a y b. ¿Qué resultado esperas?"
   ]
  },
  {
   "cell_type": "code",
   "execution_count": null,
   "metadata": {},
   "outputs": [
    {
     "name": "stdout",
     "output_type": "stream",
     "text": [
      "la medida de a es de 2\n",
      "la medida de b es de 3\n",
      "a es menor que b\n"
     ]
    }
   ],
   "source": [
    "# Operadores de comparación\n",
    "a=int(input(\"ingrese la medida de a \"))\n",
    "print (\"la medida de a es de\", a )\n",
    "b=int(input(\"ingrese la medida de b \"))\n",
    "print (\"la medida de b es de\", b )\n",
    "# ¿Es a igual a b?\n",
    "if (a == b) :\n",
    "   print(\" los numeros son iguales \")\n",
    "\n",
    "# ¿Es a mayor que b?\n",
    "if (a > b):\n",
    "   print (\"a es mayor que b\")\n",
    "# ¿Es a menor que b?\n",
    "if (a < b):\n",
    "   print (\"a es menor que b\")"
   ]
  },
  {
   "cell_type": "code",
   "execution_count": null,
   "metadata": {},
   "outputs": [
    {
     "name": "stdout",
     "output_type": "stream",
     "text": [
      "False\n",
      "False\n",
      "True\n"
     ]
    }
   ],
   "source": [
    "a = 10\n",
    "b = 12\n",
    "\n",
    "print (a == b)\n",
    "\n",
    "print (a > b)\n",
    "\n",
    "print (a < b)"
   ]
  },
  {
   "cell_type": "markdown",
   "metadata": {},
   "source": [
    "### Problema 3: Operadores Lógicos\n",
    "Usa operadores lógicos para combinar condiciones. Resuelve el siguiente problema: ¿Es a mayor que 0 y b menor que 10? \n",
    "\n",
    "- ¿Qué pasa si a = -10?"
   ]
  },
  {
   "cell_type": "code",
   "execution_count": 9,
   "metadata": {},
   "outputs": [
    {
     "name": "stdout",
     "output_type": "stream",
     "text": [
      "False\n"
     ]
    }
   ],
   "source": [
    "# Ejemplo: Operador lógico AND (usuario y contraseña)\n",
    "\n",
    "# Datos correctos (simulando una base de datos)\n",
    "usuario_correcto = \"admin\"\n",
    "contraseña_correcta = \"1234\"\n",
    "\n",
    "usuario = input (\"ingrese el usuario por favor: \")\n",
    "contraseña = input (\"ingrese la contraseña por favor: \")\n",
    "\n",
    "\n",
    "print ( usuario == usuario_correcto and contraseña_correcta == contraseña_correcta)\n"
   ]
  },
  {
   "cell_type": "code",
   "execution_count": null,
   "metadata": {},
   "outputs": [
    {
     "name": "stdout",
     "output_type": "stream",
     "text": [
      "True\n"
     ]
    }
   ],
   "source": [
    "# Ejemplo: Operador lógico OR\n",
    "papa = True\n",
    "mama = True\n",
    "# Preguntar si mamá o papá dan permiso\n",
    "print (mama or papa)\n",
    "\n"
   ]
  },
  {
   "cell_type": "code",
   "execution_count": null,
   "metadata": {},
   "outputs": [
    {
     "name": "stdout",
     "output_type": "stream",
     "text": [
      "True\n"
     ]
    }
   ],
   "source": [
    "# ¿Ambas condiciones son verdaderas?\n",
    "papa = True\n",
    "mama = False\n",
    "# ¿Al menos una de las condiciones es verdadera?\n",
    "print (papa or mama)\n",
    "# ¿Es falso que a sea mayor que b?\n"
   ]
  },
  {
   "cell_type": "code",
   "execution_count": null,
   "metadata": {},
   "outputs": [
    {
     "name": "stdout",
     "output_type": "stream",
     "text": [
      "True\n"
     ]
    }
   ],
   "source": [
    "papa = False\n",
    "mama = True\n",
    "\n",
    "print (mama or papa)"
   ]
  },
  {
   "cell_type": "code",
   "execution_count": null,
   "metadata": {},
   "outputs": [
    {
     "name": "stdout",
     "output_type": "stream",
     "text": [
      "False\n"
     ]
    }
   ],
   "source": [
    "papa = False\n",
    "mama = False\n",
    "print ( papa or mama)"
   ]
  },
  {
   "cell_type": "markdown",
   "metadata": {},
   "source": [
    "### Problema 4: Divisiones y Módulo\n",
    "Prueba las operaciones de división entera y módulo para ver cómo Python maneja los restos de las divisiones."
   ]
  },
  {
   "cell_type": "code",
   "execution_count": null,
   "metadata": {},
   "outputs": [
    {
     "name": "stdout",
     "output_type": "stream",
     "text": [
      "5.5\n",
      "5\n",
      "1\n"
     ]
    }
   ],
   "source": [
    "# División entera y módulo\n",
    "print (11/2) #División\n",
    "\n",
    "print (11//2) #División entera\n",
    "\n",
    "print (11%2) #División modular"
   ]
  },
  {
   "cell_type": "code",
   "execution_count": null,
   "metadata": {},
   "outputs": [
    {
     "name": "stdout",
     "output_type": "stream",
     "text": [
      "el residuo de dicho numero es de 1.0\n",
      "el numero no es par\n"
     ]
    }
   ],
   "source": [
    "# Función para verificar si un número es par\n",
    "numeroin= float(input (\"ingrese el numero por favor: \"))\n",
    "#si el numero dividido por 2  y el residuo es 0 es par\n",
    "\n",
    "Divisionmodular=numeroin % 2\n",
    "print(\"el residuo de dicho numero es de\", Divisionmodular)\n",
    "if Divisionmodular == 0: \n",
    "  print(\"el numero es par\")\n",
    "else: \n",
    "  print (\"el numero no es par\")"
   ]
  },
  {
   "cell_type": "markdown",
   "metadata": {
    "vscode": {
     "languageId": "powershell"
    }
   },
   "source": [
    "### 5. Conversión entre Tipos de Datos\n",
    "Python permite convertir entre tipos de datos usando funciones como:\n",
    "\n",
    "- `int()`: Convierte a entero.\n",
    "- `float()`: Convierte a decimal.\n",
    "- `str():` Convierte a cadena.\n",
    "- `bool()`: Convierte a booleano."
   ]
  },
  {
   "cell_type": "code",
   "execution_count": null,
   "metadata": {
    "vscode": {
     "languageId": "powershell"
    }
   },
   "outputs": [
    {
     "name": "stdout",
     "output_type": "stream",
     "text": [
      "<class 'int'>\n"
     ]
    }
   ],
   "source": [
    "# Conversión de tipos\n",
    "Variable = 10\n",
    "\n",
    "print (type(Variable))"
   ]
  },
  {
   "cell_type": "code",
   "execution_count": null,
   "metadata": {
    "vscode": {
     "languageId": "powershell"
    }
   },
   "outputs": [],
   "source": [
    "# Conversión de cadenas a números"
   ]
  },
  {
   "cell_type": "markdown",
   "metadata": {},
   "source": [
    "### Ejercicio Final:\n",
    "\n",
    "Combina operadores matemáticos, de comparación y lógicos. Escribe un programa que pida al usuario dos números y realice las siguientes tareas:\n",
    "\n",
    "1. Verifique si el primer número es mayor que el segundo.\n",
    "2. Calcule la suma, resta, división y módulo de ambos.\n",
    "3. Determine si la suma de ambos números es mayor que 20 **y** si alguno de los dos es menor que 5."
   ]
  },
  {
   "cell_type": "code",
   "execution_count": null,
   "metadata": {},
   "outputs": [
    {
     "name": "stdout",
     "output_type": "stream",
     "text": [
      "False\n",
      "la suma de estos numeros es de 8\n",
      "la resta de estos numeros es de 0\n",
      "la division de estos numeros es de 1.0\n",
      "El modulo del primer numero es de 0\n",
      "la suma de estos dos numeros no son mas de 20\n",
      "el numero 1 es menor que 5\n",
      "el numero 2 es menor que 5\n"
     ]
    }
   ],
   "source": [
    "#Respuesta\n",
    "num1=int(input(\"Ingrese el primer numero:\"))\n",
    "num2=int(input(\"Ingrese el segundo numero:\"))\n",
    "\n",
    "print (num1 > num2)\n",
    "\n",
    "print (\"la suma de estos numeros es de\", num1 + num2)\n",
    "print (\"la resta de estos numeros es de\", num1 - num2)\n",
    "print (\"la division de estos numeros es de\", num1 / num2)\n",
    "\n",
    "print (\"El modulo del primer numero es de\", num1 % num2)\n",
    "\n",
    "if num1 + num2 > 20:\n",
    "    print(\"los dos numeros sumados es mayor a 20\")\n",
    "\n",
    "else: \n",
    "    print(\"la suma de estos dos numeros no son mas de 20\")\n",
    "    \n",
    "if num1 < 5:\n",
    "    print(\"el numero 1 es menor que 5\")\n",
    "else:\n",
    "    print (\"el numero 1 no es menor que 5\")\n",
    "  \n",
    "if num2 < 5:\n",
    "      print(\"el numero 2 es menor que 5\")\n",
    "else:\n",
    "    print (\"el numero 2 no es menor que 5\")      "
   ]
  },
  {
   "cell_type": "code",
   "execution_count": null,
   "metadata": {},
   "outputs": [
    {
     "name": "stdout",
     "output_type": "stream",
     "text": [
      "==================================================\n",
      "     ¡BIENVENIDO AL LABERINTO MÁGICO!\n",
      "==================================================\n",
      "Tendrás que elegir la puerta correcta para escapar.\n",
      "¡Pero cuidado! Algunas puertas tienen trampas misteriosas...\n",
      "\n",
      "\n",
      "Nivel: 1 | Puntos: 0 | Vidas: 3\n",
      "Puertas disponibles: [1] [2] [3]\n",
      "¡Correcto! Avanzas al siguiente nivel.\n",
      "\n",
      "Nivel: 2 | Puntos: 10 | Vidas: 3\n",
      "Puertas disponibles: [1] [2] [3]\n",
      "Puerta equivocada... retrocedes un nivel.\n",
      "\n",
      "Nivel: 1 | Puntos: 5 | Vidas: 3\n",
      "Puertas disponibles: [1] [2] [3]\n",
      "Puerta equivocada... retrocedes un nivel.\n",
      "\n",
      "Nivel: 1 | Puntos: 0 | Vidas: 3\n",
      "Puertas disponibles: [1] [2] [3]\n",
      "¡Oh no! Has caído en una trampa mágica. Pierdes una vida.\n",
      "\n",
      "Nivel: 1 | Puntos: -10 | Vidas: 2\n",
      "Puertas disponibles: [1] [2] [3]\n",
      "Puerta equivocada... retrocedes un nivel.\n",
      "\n",
      "Nivel: 1 | Puntos: -15 | Vidas: 2\n",
      "Puertas disponibles: [1] [2] [3]\n",
      "Puerta equivocada... retrocedes un nivel.\n",
      "\n",
      "Nivel: 1 | Puntos: -20 | Vidas: 2\n",
      "Puertas disponibles: [1] [2] [3]\n",
      "Puerta equivocada... retrocedes un nivel.\n",
      "\n",
      "Nivel: 1 | Puntos: -25 | Vidas: 2\n",
      "Puertas disponibles: [1] [2] [3]\n",
      "¡Correcto! Avanzas al siguiente nivel.\n",
      "\n",
      "Nivel: 2 | Puntos: -15 | Vidas: 2\n",
      "Puertas disponibles: [1] [2] [3]\n",
      "Ingresa un número válido.\n",
      "¡Correcto! Avanzas al siguiente nivel.\n",
      "\n",
      "Nivel: 3 | Puntos: -5 | Vidas: 2\n",
      "Puertas disponibles: [1] [2] [3]\n",
      "Puerta equivocada... retrocedes un nivel.\n",
      "\n",
      "Nivel: 2 | Puntos: -10 | Vidas: 2\n",
      "Puertas disponibles: [1] [2] [3]\n",
      "¡Correcto! Avanzas al siguiente nivel.\n",
      "\n",
      "Nivel: 3 | Puntos: 0 | Vidas: 2\n",
      "Puertas disponibles: [1] [2] [3]\n",
      "¡Correcto! Avanzas al siguiente nivel.\n",
      "\n",
      "Nivel: 4 | Puntos: 10 | Vidas: 2\n",
      "Puertas disponibles: [1] [2] [3]\n",
      "Puerta equivocada... retrocedes un nivel.\n",
      "\n",
      "Nivel: 3 | Puntos: 5 | Vidas: 2\n",
      "Puertas disponibles: [1] [2] [3]\n",
      "Puerta equivocada... retrocedes un nivel.\n",
      "\n",
      "Nivel: 2 | Puntos: 0 | Vidas: 2\n",
      "Puertas disponibles: [1] [2] [3]\n",
      "Puerta equivocada... retrocedes un nivel.\n",
      "\n",
      "Nivel: 1 | Puntos: -5 | Vidas: 2\n",
      "Puertas disponibles: [1] [2] [3]\n",
      "Puerta equivocada... retrocedes un nivel.\n",
      "\n",
      "Nivel: 1 | Puntos: -10 | Vidas: 2\n",
      "Puertas disponibles: [1] [2] [3]\n",
      "Puerta equivocada... retrocedes un nivel.\n",
      "\n",
      "Nivel: 1 | Puntos: -15 | Vidas: 2\n",
      "Puertas disponibles: [1] [2] [3]\n",
      "¡Oh no! Has caído en una trampa mágica. Pierdes una vida.\n",
      "\n",
      "Nivel: 1 | Puntos: -25 | Vidas: 1\n",
      "Puertas disponibles: [1] [2] [3]\n",
      "¡Correcto! Avanzas al siguiente nivel.\n",
      "\n",
      "Nivel: 2 | Puntos: -15 | Vidas: 1\n",
      "Puertas disponibles: [1] [2] [3]\n",
      "Puerta equivocada... retrocedes un nivel.\n",
      "\n",
      "Nivel: 1 | Puntos: -20 | Vidas: 1\n",
      "Puertas disponibles: [1] [2] [3]\n",
      "Puerta equivocada... retrocedes un nivel.\n",
      "\n",
      "Nivel: 1 | Puntos: -25 | Vidas: 1\n",
      "Puertas disponibles: [1] [2] [3]\n"
     ]
    }
   ],
   "source": [
    "import random\n",
    "import time\n",
    "from colorama import init, Fore, Style\n",
    "\n",
    "# Inicializa colorama\n",
    "init(autoreset=True)\n",
    "\n",
    "# Introducción\n",
    "def mostrar_intro():\n",
    "    print(Fore.CYAN + \"=\" * 50)\n",
    "    print(Fore.YELLOW + \"     ¡BIENVENIDO AL LABERINTO MÁGICO!\")\n",
    "    print(Fore.CYAN + \"=\" * 50)\n",
    "    print(Fore.GREEN + \"Tendrás que elegir la puerta correcta para escapar.\")\n",
    "    print(Fore.RED + \"¡Pero cuidado! Algunas puertas tienen trampas misteriosas...\\n\")\n",
    "\n",
    "# Mostrar estado\n",
    "def mostrar_estado(nivel, puntos, vidas):\n",
    "    print(Fore.CYAN + f\"\\nNivel: {nivel} | Puntos: {puntos} | Vidas: {vidas}\")\n",
    "    print(\"Puertas disponibles: [1] [2] [3]\")\n",
    "\n",
    "# Función para jugar un nivel\n",
    "def jugar_nivel(nivel):\n",
    "    puerta_correcta = random.randint(1, 3)\n",
    "    puerta_trampa = random.randint(1, 3)\n",
    "    \n",
    "    while True:\n",
    "        try:\n",
    "            eleccion = int(input(Fore.WHITE + \"Elige una puerta (1-3): \"))\n",
    "            if eleccion in [1, 2, 3]:\n",
    "                break\n",
    "            else:\n",
    "                print(Fore.YELLOW + \"Por favor, elige una puerta válida (1, 2 o 3).\")\n",
    "        except ValueError:\n",
    "            print(Fore.YELLOW + \"Ingresa un número válido.\")\n",
    "\n",
    "    time.sleep(1)\n",
    "    \n",
    "    if eleccion == puerta_correcta:\n",
    "        print(Fore.GREEN + \"¡Correcto! Avanzas al siguiente nivel.\")\n",
    "        return \"correcto\"\n",
    "    elif eleccion == puerta_trampa:\n",
    "        print(Fore.MAGENTA + \"¡Oh no! Has caído en una trampa mágica. Pierdes una vida.\")\n",
    "        return \"trampa\"\n",
    "    else:\n",
    "        print(Fore.RED + \"Puerta equivocada... retrocedes un nivel.\")\n",
    "        return \"fallo\"\n",
    "\n",
    "# Juego principal\n",
    "def jugar():\n",
    "    nivel = 1\n",
    "    max_nivel = 5\n",
    "    puntos = 0\n",
    "    vidas = 3\n",
    "\n",
    "    mostrar_intro()\n",
    "\n",
    "    while nivel <= max_nivel and vidas > 0:\n",
    "        mostrar_estado(nivel, puntos, vidas)\n",
    "        resultado = jugar_nivel(nivel)\n",
    "\n",
    "        if resultado == \"correcto\":\n",
    "            puntos += 10\n",
    "            nivel += 1\n",
    "        elif resultado == \"fallo\":\n",
    "            puntos -= 5\n",
    "            nivel = max(1, nivel - 1)\n",
    "        elif resultado == \"trampa\":\n",
    "            vidas -= 1\n",
    "            puntos -= 10\n",
    "            nivel = max(1, nivel - 1)\n",
    "\n",
    "    # Resultado final\n",
    "    if vidas == 0:\n",
    "        print(Fore.RED + \"\\n😢 ¡Te quedaste sin vidas! Has sido atrapado en el laberinto.\")\n",
    "    else:\n",
    "        print(Fore.GREEN + \"\\n🎉 ¡Felicidades! Escapaste del laberinto mágico.\")\n",
    "    \n",
    "    print(Fore.YELLOW + f\"🏅 Tu puntuación final fue: {puntos}\")\n",
    "    print(Fore.CYAN + \"Gracias por jugar.\\n\")\n",
    "\n",
    "# Ejecutar el juego\n",
    "if __name__ == \"__main__\":\n",
    "    jugar()"
   ]
  }
 ],
 "metadata": {
  "kernelspec": {
   "display_name": "Python 3",
   "language": "python",
   "name": "python3"
  },
  "language_info": {
   "codemirror_mode": {
    "name": "ipython",
    "version": 3
   },
   "file_extension": ".py",
   "mimetype": "text/x-python",
   "name": "python",
   "nbconvert_exporter": "python",
   "pygments_lexer": "ipython3",
   "version": "3.13.3"
  }
 },
 "nbformat": 4,
 "nbformat_minor": 2
}
